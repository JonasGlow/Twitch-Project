{
 "metadata": {
  "language_info": {
   "codemirror_mode": {
    "name": "ipython",
    "version": 3
   },
   "file_extension": ".py",
   "mimetype": "text/x-python",
   "name": "python",
   "nbconvert_exporter": "python",
   "pygments_lexer": "ipython3",
   "version": "3.7.6-final"
  },
  "orig_nbformat": 2,
  "kernelspec": {
   "name": "python3",
   "display_name": "Python 3"
  }
 },
 "nbformat": 4,
 "nbformat_minor": 2,
 "cells": [
  {
   "source": [
    "## Initialization\n",
    "---"
   ],
   "cell_type": "markdown",
   "metadata": {}
  },
  {
   "cell_type": "code",
   "execution_count": 1,
   "metadata": {},
   "outputs": [],
   "source": [
    "import pandas as pd\n",
    "import numpy as np\n",
    "import os\n",
    "import glob\n",
    "import re\n",
    "import matplotlib.pyplot as plt\n"
   ]
  },
  {
   "source": [
    "## Data Loading & Cleaning\n",
    "---"
   ],
   "cell_type": "markdown",
   "metadata": {}
  },
  {
   "cell_type": "code",
   "execution_count": 2,
   "metadata": {},
   "outputs": [],
   "source": [
    "DATA_DIR = os.getcwd()\n",
    "\n",
    "filenames = glob.glob(DATA_DIR + \"/data/*.csv\")\n",
    "\n",
    "# Combine all top100 CSV into one df with each timestamp\n",
    "dfs = []\n",
    "for filename in filenames:  \n",
    "    tmp = pd.read_csv(filename)\n",
    "\n",
    "    file_name = os.path.splitext(os.path.basename(filename))[0]\n",
    "    timestamp = file_name[14:]\n",
    "    tmp['timestamp'] = timestamp\n",
    "\n",
    "    dfs.append(tmp)\n",
    "\n",
    "top100 = pd.concat(dfs, ignore_index=True)\n"
   ]
  },
  {
   "cell_type": "code",
   "execution_count": 3,
   "metadata": {},
   "outputs": [
    {
     "output_type": "stream",
     "name": "stdout",
     "text": [
      "   Unnamed: 0           id    user_id user_name  game_id  type  \\\n0           0  39372082478  124420521       LCS  21779.0  live   \n\n                                            title  viewer_count  \\\n0  LCS Playoffs: Team Liquid vs. Golden Guardians        112074   \n\n             started_at language  \\\n0  2020-08-21T22:05:20Z       en   \n\n                                       thumbnail_url  \\\n0  https://static-cdn.jtvnw.net/previews-ttv/live...   \n\n                                             tag_ids            timestamp  \n0  ['6ea6bca4-4712-4ab9-a906-e3336a9d8039', '36a8...  2020_08_22_00_35_36  \n1299\n"
     ]
    }
   ],
   "source": [
    "print(top100.head(1))\n",
    "print(len(top100)) # One Top100 is has only 99 rows"
   ]
  },
  {
   "cell_type": "code",
   "execution_count": 4,
   "metadata": {},
   "outputs": [],
   "source": [
    "# Removing unimportant cols\n",
    "top100 = top100.drop(['game_id', 'title', 'started_at', 'thumbnail_url', 'tag_ids'], axis = 1)"
   ]
  },
  {
   "cell_type": "code",
   "execution_count": 5,
   "metadata": {},
   "outputs": [
    {
     "output_type": "stream",
     "name": "stdout",
     "text": [
      "['ranking_position', 'id', 'user_id', 'user_name', 'type', 'viewer_count', 'language', 'timestamp']\n"
     ]
    }
   ],
   "source": [
    "# Rename unnamed col to ranking\n",
    "top100.rename(columns={'Unnamed: 0':'ranking'}, inplace=True )\n",
    "print(list(top100))"
   ]
  },
  {
   "cell_type": "code",
   "execution_count": 6,
   "metadata": {},
   "outputs": [
    {
     "output_type": "stream",
     "name": "stdout",
     "text": [
      "ranking_position     int64\nid                   int64\nuser_id              int64\nuser_name           object\ntype                object\nviewer_count         int64\nlanguage            object\ntimestamp           object\ndtype: object\nranking_position             int64\nid                           int64\nuser_id                      int64\nuser_name                   object\ntype                      category\nviewer_count                 int64\nlanguage                  category\ntimestamp           datetime64[ns]\ndtype: object\n"
     ]
    }
   ],
   "source": [
    "# Fixing data types\n",
    "print(top100.dtypes)\n",
    "top100['user_name'] = top100['user_name'].astype(str)\n",
    "top100['type'] = top100['type'].astype('category') \n",
    "top100['language'] = top100['language'].astype('category') \n",
    "top100['timestamp'] = pd.to_datetime(top100[\"timestamp\"], format = \"%Y_%m_%d_%H_%M_%S\")\n",
    "print(top100.dtypes)\n"
   ]
  },
  {
   "cell_type": "code",
   "execution_count": 7,
   "metadata": {},
   "outputs": [
    {
     "output_type": "stream",
     "name": "stdout",
     "text": [
      "ranking_position    0\nid                  0\nuser_id             0\nuser_name           0\ntype                0\nviewer_count        0\nlanguage            0\ntimestamp           0\ndtype: int64\n"
     ]
    }
   ],
   "source": [
    "# Checking NAs\n",
    "print(top100.isnull().sum())\n"
   ]
  },
  {
   "source": [
    "## Data Understanding\n",
    "---"
   ],
   "cell_type": "markdown",
   "metadata": {}
  },
  {
   "cell_type": "code",
   "execution_count": 8,
   "metadata": {},
   "outputs": [
    {
     "output_type": "stream",
     "name": "stdout",
     "text": [
      "GamesDoneQuick    13\nGaules            13\nDota2RuHub        13\nESL_CSGO          12\nxQcOW             12\n                  ..\nThesterge          1\nYoDa               1\nArcadum            1\nbenjyfishy         1\n한국프로야구4            1\nName: user_name, Length: 529, dtype: int64\n"
     ]
    }
   ],
   "source": [
    "# Number of streamers\n",
    "print(top100['user_name'].value_counts())"
   ]
  },
  {
   "cell_type": "code",
   "execution_count": 9,
   "metadata": {},
   "outputs": [
    {
     "output_type": "stream",
     "name": "stdout",
     "text": [
      "en    628\nes    133\nko    109\npt    108\nru     66\nfr     64\nde     52\nzh     46\nja     33\ntr     24\nit     12\npl     11\nar      5\nth      4\ncs      4\nName: language, dtype: int64\n"
     ]
    }
   ],
   "source": [
    "# Different languages\n",
    "print(top100['language'].value_counts())"
   ]
  },
  {
   "cell_type": "code",
   "execution_count": 10,
   "metadata": {},
   "outputs": [
    {
     "output_type": "stream",
     "name": "stdout",
     "text": [
      "live    1299\nName: type, dtype: int64\n"
     ]
    }
   ],
   "source": [
    "# Different types \n",
    "print(top100['type'].value_counts()) # all live"
   ]
  },
  {
   "cell_type": "code",
   "execution_count": 11,
   "metadata": {},
   "outputs": [
    {
     "output_type": "execute_result",
     "data": {
      "text/plain": [
       "<matplotlib.axes._subplots.AxesSubplot at 0x228b58a9548>"
      ]
     },
     "metadata": {},
     "execution_count": 11
    },
    {
     "output_type": "display_data",
     "data": {
      "text/plain": "<Figure size 432x288 with 1 Axes>",
      "image/svg+xml": "<?xml version=\"1.0\" encoding=\"utf-8\" standalone=\"no\"?>\r\n<!DOCTYPE svg PUBLIC \"-//W3C//DTD SVG 1.1//EN\"\r\n  \"http://www.w3.org/Graphics/SVG/1.1/DTD/svg11.dtd\">\r\n<!-- Created with matplotlib (https://matplotlib.org/) -->\r\n<svg height=\"248.79625pt\" version=\"1.1\" viewBox=\"0 0 394.375 248.79625\" width=\"394.375pt\" xmlns=\"http://www.w3.org/2000/svg\" xmlns:xlink=\"http://www.w3.org/1999/xlink\">\r\n <defs>\r\n  <style type=\"text/css\">\r\n*{stroke-linecap:butt;stroke-linejoin:round;}\r\n  </style>\r\n </defs>\r\n <g id=\"figure_1\">\r\n  <g id=\"patch_1\">\r\n   <path d=\"M 0 248.79625 \r\nL 394.375 248.79625 \r\nL 394.375 0 \r\nL 0 0 \r\nz\r\n\" style=\"fill:none;\"/>\r\n  </g>\r\n  <g id=\"axes_1\">\r\n   <g id=\"patch_2\">\r\n    <path d=\"M 52.375 224.64 \r\nL 387.175 224.64 \r\nL 387.175 7.2 \r\nL 52.375 7.2 \r\nz\r\n\" style=\"fill:#ffffff;\"/>\r\n   </g>\r\n   <g id=\"matplotlib.axis_1\">\r\n    <g id=\"xtick_1\">\r\n     <g id=\"line2d_1\">\r\n      <path clip-path=\"url(#pffc5ef37e1)\" d=\"M 219.775 224.64 \r\nL 219.775 7.2 \r\n\" style=\"fill:none;stroke:#b0b0b0;stroke-linecap:square;stroke-width:0.8;\"/>\r\n     </g>\r\n     <g id=\"line2d_2\">\r\n      <defs>\r\n       <path d=\"M 0 0 \r\nL 0 3.5 \r\n\" id=\"m3221ac660a\" style=\"stroke:#000000;stroke-width:0.8;\"/>\r\n      </defs>\r\n      <g>\r\n       <use style=\"stroke:#000000;stroke-width:0.8;\" x=\"219.775\" xlink:href=\"#m3221ac660a\" y=\"224.64\"/>\r\n      </g>\r\n     </g>\r\n     <g id=\"text_1\">\r\n      <!-- viewer_count -->\r\n      <defs>\r\n       <path d=\"M 2.984375 54.6875 \r\nL 12.5 54.6875 \r\nL 29.59375 8.796875 \r\nL 46.6875 54.6875 \r\nL 56.203125 54.6875 \r\nL 35.6875 0 \r\nL 23.484375 0 \r\nz\r\n\" id=\"DejaVuSans-118\"/>\r\n       <path d=\"M 9.421875 54.6875 \r\nL 18.40625 54.6875 \r\nL 18.40625 0 \r\nL 9.421875 0 \r\nz\r\nM 9.421875 75.984375 \r\nL 18.40625 75.984375 \r\nL 18.40625 64.59375 \r\nL 9.421875 64.59375 \r\nz\r\n\" id=\"DejaVuSans-105\"/>\r\n       <path d=\"M 56.203125 29.59375 \r\nL 56.203125 25.203125 \r\nL 14.890625 25.203125 \r\nQ 15.484375 15.921875 20.484375 11.0625 \r\nQ 25.484375 6.203125 34.421875 6.203125 \r\nQ 39.59375 6.203125 44.453125 7.46875 \r\nQ 49.3125 8.734375 54.109375 11.28125 \r\nL 54.109375 2.78125 \r\nQ 49.265625 0.734375 44.1875 -0.34375 \r\nQ 39.109375 -1.421875 33.890625 -1.421875 \r\nQ 20.796875 -1.421875 13.15625 6.1875 \r\nQ 5.515625 13.8125 5.515625 26.8125 \r\nQ 5.515625 40.234375 12.765625 48.109375 \r\nQ 20.015625 56 32.328125 56 \r\nQ 43.359375 56 49.78125 48.890625 \r\nQ 56.203125 41.796875 56.203125 29.59375 \r\nz\r\nM 47.21875 32.234375 \r\nQ 47.125 39.59375 43.09375 43.984375 \r\nQ 39.0625 48.390625 32.421875 48.390625 \r\nQ 24.90625 48.390625 20.390625 44.140625 \r\nQ 15.875 39.890625 15.1875 32.171875 \r\nz\r\n\" id=\"DejaVuSans-101\"/>\r\n       <path d=\"M 4.203125 54.6875 \r\nL 13.1875 54.6875 \r\nL 24.421875 12.015625 \r\nL 35.59375 54.6875 \r\nL 46.1875 54.6875 \r\nL 57.421875 12.015625 \r\nL 68.609375 54.6875 \r\nL 77.59375 54.6875 \r\nL 63.28125 0 \r\nL 52.6875 0 \r\nL 40.921875 44.828125 \r\nL 29.109375 0 \r\nL 18.5 0 \r\nz\r\n\" id=\"DejaVuSans-119\"/>\r\n       <path d=\"M 41.109375 46.296875 \r\nQ 39.59375 47.171875 37.8125 47.578125 \r\nQ 36.03125 48 33.890625 48 \r\nQ 26.265625 48 22.1875 43.046875 \r\nQ 18.109375 38.09375 18.109375 28.8125 \r\nL 18.109375 0 \r\nL 9.078125 0 \r\nL 9.078125 54.6875 \r\nL 18.109375 54.6875 \r\nL 18.109375 46.1875 \r\nQ 20.953125 51.171875 25.484375 53.578125 \r\nQ 30.03125 56 36.53125 56 \r\nQ 37.453125 56 38.578125 55.875 \r\nQ 39.703125 55.765625 41.0625 55.515625 \r\nz\r\n\" id=\"DejaVuSans-114\"/>\r\n       <path d=\"M 50.984375 -16.609375 \r\nL 50.984375 -23.578125 \r\nL -0.984375 -23.578125 \r\nL -0.984375 -16.609375 \r\nz\r\n\" id=\"DejaVuSans-95\"/>\r\n       <path d=\"M 48.78125 52.59375 \r\nL 48.78125 44.1875 \r\nQ 44.96875 46.296875 41.140625 47.34375 \r\nQ 37.3125 48.390625 33.40625 48.390625 \r\nQ 24.65625 48.390625 19.8125 42.84375 \r\nQ 14.984375 37.3125 14.984375 27.296875 \r\nQ 14.984375 17.28125 19.8125 11.734375 \r\nQ 24.65625 6.203125 33.40625 6.203125 \r\nQ 37.3125 6.203125 41.140625 7.25 \r\nQ 44.96875 8.296875 48.78125 10.40625 \r\nL 48.78125 2.09375 \r\nQ 45.015625 0.34375 40.984375 -0.53125 \r\nQ 36.96875 -1.421875 32.421875 -1.421875 \r\nQ 20.0625 -1.421875 12.78125 6.34375 \r\nQ 5.515625 14.109375 5.515625 27.296875 \r\nQ 5.515625 40.671875 12.859375 48.328125 \r\nQ 20.21875 56 33.015625 56 \r\nQ 37.15625 56 41.109375 55.140625 \r\nQ 45.0625 54.296875 48.78125 52.59375 \r\nz\r\n\" id=\"DejaVuSans-99\"/>\r\n       <path d=\"M 30.609375 48.390625 \r\nQ 23.390625 48.390625 19.1875 42.75 \r\nQ 14.984375 37.109375 14.984375 27.296875 \r\nQ 14.984375 17.484375 19.15625 11.84375 \r\nQ 23.34375 6.203125 30.609375 6.203125 \r\nQ 37.796875 6.203125 41.984375 11.859375 \r\nQ 46.1875 17.53125 46.1875 27.296875 \r\nQ 46.1875 37.015625 41.984375 42.703125 \r\nQ 37.796875 48.390625 30.609375 48.390625 \r\nz\r\nM 30.609375 56 \r\nQ 42.328125 56 49.015625 48.375 \r\nQ 55.71875 40.765625 55.71875 27.296875 \r\nQ 55.71875 13.875 49.015625 6.21875 \r\nQ 42.328125 -1.421875 30.609375 -1.421875 \r\nQ 18.84375 -1.421875 12.171875 6.21875 \r\nQ 5.515625 13.875 5.515625 27.296875 \r\nQ 5.515625 40.765625 12.171875 48.375 \r\nQ 18.84375 56 30.609375 56 \r\nz\r\n\" id=\"DejaVuSans-111\"/>\r\n       <path d=\"M 8.5 21.578125 \r\nL 8.5 54.6875 \r\nL 17.484375 54.6875 \r\nL 17.484375 21.921875 \r\nQ 17.484375 14.15625 20.5 10.265625 \r\nQ 23.53125 6.390625 29.59375 6.390625 \r\nQ 36.859375 6.390625 41.078125 11.03125 \r\nQ 45.3125 15.671875 45.3125 23.6875 \r\nL 45.3125 54.6875 \r\nL 54.296875 54.6875 \r\nL 54.296875 0 \r\nL 45.3125 0 \r\nL 45.3125 8.40625 \r\nQ 42.046875 3.421875 37.71875 1 \r\nQ 33.40625 -1.421875 27.6875 -1.421875 \r\nQ 18.265625 -1.421875 13.375 4.4375 \r\nQ 8.5 10.296875 8.5 21.578125 \r\nz\r\nM 31.109375 56 \r\nz\r\n\" id=\"DejaVuSans-117\"/>\r\n       <path d=\"M 54.890625 33.015625 \r\nL 54.890625 0 \r\nL 45.90625 0 \r\nL 45.90625 32.71875 \r\nQ 45.90625 40.484375 42.875 44.328125 \r\nQ 39.84375 48.1875 33.796875 48.1875 \r\nQ 26.515625 48.1875 22.3125 43.546875 \r\nQ 18.109375 38.921875 18.109375 30.90625 \r\nL 18.109375 0 \r\nL 9.078125 0 \r\nL 9.078125 54.6875 \r\nL 18.109375 54.6875 \r\nL 18.109375 46.1875 \r\nQ 21.34375 51.125 25.703125 53.5625 \r\nQ 30.078125 56 35.796875 56 \r\nQ 45.21875 56 50.046875 50.171875 \r\nQ 54.890625 44.34375 54.890625 33.015625 \r\nz\r\n\" id=\"DejaVuSans-110\"/>\r\n       <path d=\"M 18.3125 70.21875 \r\nL 18.3125 54.6875 \r\nL 36.8125 54.6875 \r\nL 36.8125 47.703125 \r\nL 18.3125 47.703125 \r\nL 18.3125 18.015625 \r\nQ 18.3125 11.328125 20.140625 9.421875 \r\nQ 21.96875 7.515625 27.59375 7.515625 \r\nL 36.8125 7.515625 \r\nL 36.8125 0 \r\nL 27.59375 0 \r\nQ 17.1875 0 13.234375 3.875 \r\nQ 9.28125 7.765625 9.28125 18.015625 \r\nL 9.28125 47.703125 \r\nL 2.6875 47.703125 \r\nL 2.6875 54.6875 \r\nL 9.28125 54.6875 \r\nL 9.28125 70.21875 \r\nz\r\n\" id=\"DejaVuSans-116\"/>\r\n      </defs>\r\n      <g transform=\"translate(186.522656 239.238437)scale(0.1 -0.1)\">\r\n       <use xlink:href=\"#DejaVuSans-118\"/>\r\n       <use x=\"59.179688\" xlink:href=\"#DejaVuSans-105\"/>\r\n       <use x=\"86.962891\" xlink:href=\"#DejaVuSans-101\"/>\r\n       <use x=\"148.486328\" xlink:href=\"#DejaVuSans-119\"/>\r\n       <use x=\"230.273438\" xlink:href=\"#DejaVuSans-101\"/>\r\n       <use x=\"291.796875\" xlink:href=\"#DejaVuSans-114\"/>\r\n       <use x=\"332.910156\" xlink:href=\"#DejaVuSans-95\"/>\r\n       <use x=\"382.910156\" xlink:href=\"#DejaVuSans-99\"/>\r\n       <use x=\"437.890625\" xlink:href=\"#DejaVuSans-111\"/>\r\n       <use x=\"499.072266\" xlink:href=\"#DejaVuSans-117\"/>\r\n       <use x=\"562.451172\" xlink:href=\"#DejaVuSans-110\"/>\r\n       <use x=\"625.830078\" xlink:href=\"#DejaVuSans-116\"/>\r\n      </g>\r\n     </g>\r\n    </g>\r\n   </g>\r\n   <g id=\"matplotlib.axis_2\">\r\n    <g id=\"ytick_1\">\r\n     <g id=\"line2d_3\">\r\n      <path clip-path=\"url(#pffc5ef37e1)\" d=\"M 52.375 216.79312 \r\nL 387.175 216.79312 \r\n\" style=\"fill:none;stroke:#b0b0b0;stroke-linecap:square;stroke-width:0.8;\"/>\r\n     </g>\r\n     <g id=\"line2d_4\">\r\n      <defs>\r\n       <path d=\"M 0 0 \r\nL -3.5 0 \r\n\" id=\"m00d8ca4898\" style=\"stroke:#000000;stroke-width:0.8;\"/>\r\n      </defs>\r\n      <g>\r\n       <use style=\"stroke:#000000;stroke-width:0.8;\" x=\"52.375\" xlink:href=\"#m00d8ca4898\" y=\"216.79312\"/>\r\n      </g>\r\n     </g>\r\n     <g id=\"text_2\">\r\n      <!-- 0 -->\r\n      <defs>\r\n       <path d=\"M 31.78125 66.40625 \r\nQ 24.171875 66.40625 20.328125 58.90625 \r\nQ 16.5 51.421875 16.5 36.375 \r\nQ 16.5 21.390625 20.328125 13.890625 \r\nQ 24.171875 6.390625 31.78125 6.390625 \r\nQ 39.453125 6.390625 43.28125 13.890625 \r\nQ 47.125 21.390625 47.125 36.375 \r\nQ 47.125 51.421875 43.28125 58.90625 \r\nQ 39.453125 66.40625 31.78125 66.40625 \r\nz\r\nM 31.78125 74.21875 \r\nQ 44.046875 74.21875 50.515625 64.515625 \r\nQ 56.984375 54.828125 56.984375 36.375 \r\nQ 56.984375 17.96875 50.515625 8.265625 \r\nQ 44.046875 -1.421875 31.78125 -1.421875 \r\nQ 19.53125 -1.421875 13.0625 8.265625 \r\nQ 6.59375 17.96875 6.59375 36.375 \r\nQ 6.59375 54.828125 13.0625 64.515625 \r\nQ 19.53125 74.21875 31.78125 74.21875 \r\nz\r\n\" id=\"DejaVuSans-48\"/>\r\n      </defs>\r\n      <g transform=\"translate(39.0125 220.592339)scale(0.1 -0.1)\">\r\n       <use xlink:href=\"#DejaVuSans-48\"/>\r\n      </g>\r\n     </g>\r\n    </g>\r\n    <g id=\"ytick_2\">\r\n     <g id=\"line2d_5\">\r\n      <path clip-path=\"url(#pffc5ef37e1)\" d=\"M 52.375 169.71137 \r\nL 387.175 169.71137 \r\n\" style=\"fill:none;stroke:#b0b0b0;stroke-linecap:square;stroke-width:0.8;\"/>\r\n     </g>\r\n     <g id=\"line2d_6\">\r\n      <g>\r\n       <use style=\"stroke:#000000;stroke-width:0.8;\" x=\"52.375\" xlink:href=\"#m00d8ca4898\" y=\"169.71137\"/>\r\n      </g>\r\n     </g>\r\n     <g id=\"text_3\">\r\n      <!-- 50000 -->\r\n      <defs>\r\n       <path d=\"M 10.796875 72.90625 \r\nL 49.515625 72.90625 \r\nL 49.515625 64.59375 \r\nL 19.828125 64.59375 \r\nL 19.828125 46.734375 \r\nQ 21.96875 47.46875 24.109375 47.828125 \r\nQ 26.265625 48.1875 28.421875 48.1875 \r\nQ 40.625 48.1875 47.75 41.5 \r\nQ 54.890625 34.8125 54.890625 23.390625 \r\nQ 54.890625 11.625 47.5625 5.09375 \r\nQ 40.234375 -1.421875 26.90625 -1.421875 \r\nQ 22.3125 -1.421875 17.546875 -0.640625 \r\nQ 12.796875 0.140625 7.71875 1.703125 \r\nL 7.71875 11.625 \r\nQ 12.109375 9.234375 16.796875 8.0625 \r\nQ 21.484375 6.890625 26.703125 6.890625 \r\nQ 35.15625 6.890625 40.078125 11.328125 \r\nQ 45.015625 15.765625 45.015625 23.390625 \r\nQ 45.015625 31 40.078125 35.4375 \r\nQ 35.15625 39.890625 26.703125 39.890625 \r\nQ 22.75 39.890625 18.8125 39.015625 \r\nQ 14.890625 38.140625 10.796875 36.28125 \r\nz\r\n\" id=\"DejaVuSans-53\"/>\r\n      </defs>\r\n      <g transform=\"translate(13.5625 173.510589)scale(0.1 -0.1)\">\r\n       <use xlink:href=\"#DejaVuSans-53\"/>\r\n       <use x=\"63.623047\" xlink:href=\"#DejaVuSans-48\"/>\r\n       <use x=\"127.246094\" xlink:href=\"#DejaVuSans-48\"/>\r\n       <use x=\"190.869141\" xlink:href=\"#DejaVuSans-48\"/>\r\n       <use x=\"254.492188\" xlink:href=\"#DejaVuSans-48\"/>\r\n      </g>\r\n     </g>\r\n    </g>\r\n    <g id=\"ytick_3\">\r\n     <g id=\"line2d_7\">\r\n      <path clip-path=\"url(#pffc5ef37e1)\" d=\"M 52.375 122.62962 \r\nL 387.175 122.62962 \r\n\" style=\"fill:none;stroke:#b0b0b0;stroke-linecap:square;stroke-width:0.8;\"/>\r\n     </g>\r\n     <g id=\"line2d_8\">\r\n      <g>\r\n       <use style=\"stroke:#000000;stroke-width:0.8;\" x=\"52.375\" xlink:href=\"#m00d8ca4898\" y=\"122.62962\"/>\r\n      </g>\r\n     </g>\r\n     <g id=\"text_4\">\r\n      <!-- 100000 -->\r\n      <defs>\r\n       <path d=\"M 12.40625 8.296875 \r\nL 28.515625 8.296875 \r\nL 28.515625 63.921875 \r\nL 10.984375 60.40625 \r\nL 10.984375 69.390625 \r\nL 28.421875 72.90625 \r\nL 38.28125 72.90625 \r\nL 38.28125 8.296875 \r\nL 54.390625 8.296875 \r\nL 54.390625 0 \r\nL 12.40625 0 \r\nz\r\n\" id=\"DejaVuSans-49\"/>\r\n      </defs>\r\n      <g transform=\"translate(7.2 126.428839)scale(0.1 -0.1)\">\r\n       <use xlink:href=\"#DejaVuSans-49\"/>\r\n       <use x=\"63.623047\" xlink:href=\"#DejaVuSans-48\"/>\r\n       <use x=\"127.246094\" xlink:href=\"#DejaVuSans-48\"/>\r\n       <use x=\"190.869141\" xlink:href=\"#DejaVuSans-48\"/>\r\n       <use x=\"254.492188\" xlink:href=\"#DejaVuSans-48\"/>\r\n       <use x=\"318.115234\" xlink:href=\"#DejaVuSans-48\"/>\r\n      </g>\r\n     </g>\r\n    </g>\r\n    <g id=\"ytick_4\">\r\n     <g id=\"line2d_9\">\r\n      <path clip-path=\"url(#pffc5ef37e1)\" d=\"M 52.375 75.54787 \r\nL 387.175 75.54787 \r\n\" style=\"fill:none;stroke:#b0b0b0;stroke-linecap:square;stroke-width:0.8;\"/>\r\n     </g>\r\n     <g id=\"line2d_10\">\r\n      <g>\r\n       <use style=\"stroke:#000000;stroke-width:0.8;\" x=\"52.375\" xlink:href=\"#m00d8ca4898\" y=\"75.54787\"/>\r\n      </g>\r\n     </g>\r\n     <g id=\"text_5\">\r\n      <!-- 150000 -->\r\n      <g transform=\"translate(7.2 79.347089)scale(0.1 -0.1)\">\r\n       <use xlink:href=\"#DejaVuSans-49\"/>\r\n       <use x=\"63.623047\" xlink:href=\"#DejaVuSans-53\"/>\r\n       <use x=\"127.246094\" xlink:href=\"#DejaVuSans-48\"/>\r\n       <use x=\"190.869141\" xlink:href=\"#DejaVuSans-48\"/>\r\n       <use x=\"254.492188\" xlink:href=\"#DejaVuSans-48\"/>\r\n       <use x=\"318.115234\" xlink:href=\"#DejaVuSans-48\"/>\r\n      </g>\r\n     </g>\r\n    </g>\r\n    <g id=\"ytick_5\">\r\n     <g id=\"line2d_11\">\r\n      <path clip-path=\"url(#pffc5ef37e1)\" d=\"M 52.375 28.46612 \r\nL 387.175 28.46612 \r\n\" style=\"fill:none;stroke:#b0b0b0;stroke-linecap:square;stroke-width:0.8;\"/>\r\n     </g>\r\n     <g id=\"line2d_12\">\r\n      <g>\r\n       <use style=\"stroke:#000000;stroke-width:0.8;\" x=\"52.375\" xlink:href=\"#m00d8ca4898\" y=\"28.46612\"/>\r\n      </g>\r\n     </g>\r\n     <g id=\"text_6\">\r\n      <!-- 200000 -->\r\n      <defs>\r\n       <path d=\"M 19.1875 8.296875 \r\nL 53.609375 8.296875 \r\nL 53.609375 0 \r\nL 7.328125 0 \r\nL 7.328125 8.296875 \r\nQ 12.9375 14.109375 22.625 23.890625 \r\nQ 32.328125 33.6875 34.8125 36.53125 \r\nQ 39.546875 41.84375 41.421875 45.53125 \r\nQ 43.3125 49.21875 43.3125 52.78125 \r\nQ 43.3125 58.59375 39.234375 62.25 \r\nQ 35.15625 65.921875 28.609375 65.921875 \r\nQ 23.96875 65.921875 18.8125 64.3125 \r\nQ 13.671875 62.703125 7.8125 59.421875 \r\nL 7.8125 69.390625 \r\nQ 13.765625 71.78125 18.9375 73 \r\nQ 24.125 74.21875 28.421875 74.21875 \r\nQ 39.75 74.21875 46.484375 68.546875 \r\nQ 53.21875 62.890625 53.21875 53.421875 \r\nQ 53.21875 48.921875 51.53125 44.890625 \r\nQ 49.859375 40.875 45.40625 35.40625 \r\nQ 44.1875 33.984375 37.640625 27.21875 \r\nQ 31.109375 20.453125 19.1875 8.296875 \r\nz\r\n\" id=\"DejaVuSans-50\"/>\r\n      </defs>\r\n      <g transform=\"translate(7.2 32.265339)scale(0.1 -0.1)\">\r\n       <use xlink:href=\"#DejaVuSans-50\"/>\r\n       <use x=\"63.623047\" xlink:href=\"#DejaVuSans-48\"/>\r\n       <use x=\"127.246094\" xlink:href=\"#DejaVuSans-48\"/>\r\n       <use x=\"190.869141\" xlink:href=\"#DejaVuSans-48\"/>\r\n       <use x=\"254.492188\" xlink:href=\"#DejaVuSans-48\"/>\r\n       <use x=\"318.115234\" xlink:href=\"#DejaVuSans-48\"/>\r\n      </g>\r\n     </g>\r\n    </g>\r\n   </g>\r\n   <g id=\"line2d_13\">\r\n    <path clip-path=\"url(#pffc5ef37e1)\" d=\"M 194.665 213.233269 \r\nL 244.885 213.233269 \r\nL 244.885 208.120191 \r\nL 194.665 208.120191 \r\nL 194.665 213.233269 \r\n\" style=\"fill:none;stroke:#1f77b4;stroke-linecap:square;\"/>\r\n   </g>\r\n   <g id=\"line2d_14\">\r\n    <path clip-path=\"url(#pffc5ef37e1)\" d=\"M 219.775 213.233269 \r\nL 219.775 214.756364 \r\n\" style=\"fill:none;stroke:#1f77b4;stroke-linecap:square;\"/>\r\n   </g>\r\n   <g id=\"line2d_15\">\r\n    <path clip-path=\"url(#pffc5ef37e1)\" d=\"M 219.775 208.120191 \r\nL 219.775 200.471761 \r\n\" style=\"fill:none;stroke:#1f77b4;stroke-linecap:square;\"/>\r\n   </g>\r\n   <g id=\"line2d_16\">\r\n    <path clip-path=\"url(#pffc5ef37e1)\" d=\"M 207.22 214.756364 \r\nL 232.33 214.756364 \r\n\" style=\"fill:none;stroke:#000000;stroke-linecap:square;\"/>\r\n   </g>\r\n   <g id=\"line2d_17\">\r\n    <path clip-path=\"url(#pffc5ef37e1)\" d=\"M 207.22 200.471761 \r\nL 232.33 200.471761 \r\n\" style=\"fill:none;stroke:#000000;stroke-linecap:square;\"/>\r\n   </g>\r\n   <g id=\"line2d_18\">\r\n    <defs>\r\n     <path d=\"M 0 3 \r\nC 0.795609 3 1.55874 2.683901 2.12132 2.12132 \r\nC 2.683901 1.55874 3 0.795609 3 0 \r\nC 3 -0.795609 2.683901 -1.55874 2.12132 -2.12132 \r\nC 1.55874 -2.683901 0.795609 -3 0 -3 \r\nC -0.795609 -3 -1.55874 -2.683901 -2.12132 -2.12132 \r\nC -2.683901 -1.55874 -3 -0.795609 -3 0 \r\nC -3 0.795609 -2.683901 1.55874 -2.12132 2.12132 \r\nC -1.55874 2.683901 -0.795609 3 0 3 \r\nz\r\n\" id=\"m4e9c979e5f\" style=\"stroke:#000000;\"/>\r\n    </defs>\r\n    <g clip-path=\"url(#pffc5ef37e1)\">\r\n     <use style=\"fill-opacity:0;stroke:#000000;\" x=\"219.775\" xlink:href=\"#m4e9c979e5f\" y=\"111.260319\"/>\r\n     <use style=\"fill-opacity:0;stroke:#000000;\" x=\"219.775\" xlink:href=\"#m4e9c979e5f\" y=\"152.429543\"/>\r\n     <use style=\"fill-opacity:0;stroke:#000000;\" x=\"219.775\" xlink:href=\"#m4e9c979e5f\" y=\"160.650017\"/>\r\n     <use style=\"fill-opacity:0;stroke:#000000;\" x=\"219.775\" xlink:href=\"#m4e9c979e5f\" y=\"172.668104\"/>\r\n     <use style=\"fill-opacity:0;stroke:#000000;\" x=\"219.775\" xlink:href=\"#m4e9c979e5f\" y=\"174.340448\"/>\r\n     <use style=\"fill-opacity:0;stroke:#000000;\" x=\"219.775\" xlink:href=\"#m4e9c979e5f\" y=\"174.555141\"/>\r\n     <use style=\"fill-opacity:0;stroke:#000000;\" x=\"219.775\" xlink:href=\"#m4e9c979e5f\" y=\"182.782206\"/>\r\n     <use style=\"fill-opacity:0;stroke:#000000;\" x=\"219.775\" xlink:href=\"#m4e9c979e5f\" y=\"186.768147\"/>\r\n     <use style=\"fill-opacity:0;stroke:#000000;\" x=\"219.775\" xlink:href=\"#m4e9c979e5f\" y=\"186.949882\"/>\r\n     <use style=\"fill-opacity:0;stroke:#000000;\" x=\"219.775\" xlink:href=\"#m4e9c979e5f\" y=\"186.972481\"/>\r\n     <use style=\"fill-opacity:0;stroke:#000000;\" x=\"219.775\" xlink:href=\"#m4e9c979e5f\" y=\"193.485771\"/>\r\n     <use style=\"fill-opacity:0;stroke:#000000;\" x=\"219.775\" xlink:href=\"#m4e9c979e5f\" y=\"194.368083\"/>\r\n     <use style=\"fill-opacity:0;stroke:#000000;\" x=\"219.775\" xlink:href=\"#m4e9c979e5f\" y=\"196.411431\"/>\r\n     <use style=\"fill-opacity:0;stroke:#000000;\" x=\"219.775\" xlink:href=\"#m4e9c979e5f\" y=\"197.509377\"/>\r\n     <use style=\"fill-opacity:0;stroke:#000000;\" x=\"219.775\" xlink:href=\"#m4e9c979e5f\" y=\"198.01786\"/>\r\n     <use style=\"fill-opacity:0;stroke:#000000;\" x=\"219.775\" xlink:href=\"#m4e9c979e5f\" y=\"199.512235\"/>\r\n     <use style=\"fill-opacity:0;stroke:#000000;\" x=\"219.775\" xlink:href=\"#m4e9c979e5f\" y=\"144.196828\"/>\r\n     <use style=\"fill-opacity:0;stroke:#000000;\" x=\"219.775\" xlink:href=\"#m4e9c979e5f\" y=\"171.342282\"/>\r\n     <use style=\"fill-opacity:0;stroke:#000000;\" x=\"219.775\" xlink:href=\"#m4e9c979e5f\" y=\"175.830114\"/>\r\n     <use style=\"fill-opacity:0;stroke:#000000;\" x=\"219.775\" xlink:href=\"#m4e9c979e5f\" y=\"177.811314\"/>\r\n     <use style=\"fill-opacity:0;stroke:#000000;\" x=\"219.775\" xlink:href=\"#m4e9c979e5f\" y=\"179.81888\"/>\r\n     <use style=\"fill-opacity:0;stroke:#000000;\" x=\"219.775\" xlink:href=\"#m4e9c979e5f\" y=\"180.989333\"/>\r\n     <use style=\"fill-opacity:0;stroke:#000000;\" x=\"219.775\" xlink:href=\"#m4e9c979e5f\" y=\"187.084536\"/>\r\n     <use style=\"fill-opacity:0;stroke:#000000;\" x=\"219.775\" xlink:href=\"#m4e9c979e5f\" y=\"192.365225\"/>\r\n     <use style=\"fill-opacity:0;stroke:#000000;\" x=\"219.775\" xlink:href=\"#m4e9c979e5f\" y=\"196.045135\"/>\r\n     <use style=\"fill-opacity:0;stroke:#000000;\" x=\"219.775\" xlink:href=\"#m4e9c979e5f\" y=\"196.250411\"/>\r\n     <use style=\"fill-opacity:0;stroke:#000000;\" x=\"219.775\" xlink:href=\"#m4e9c979e5f\" y=\"198.693012\"/>\r\n     <use style=\"fill-opacity:0;stroke:#000000;\" x=\"219.775\" xlink:href=\"#m4e9c979e5f\" y=\"199.041417\"/>\r\n     <use style=\"fill-opacity:0;stroke:#000000;\" x=\"219.775\" xlink:href=\"#m4e9c979e5f\" y=\"199.402063\"/>\r\n     <use style=\"fill-opacity:0;stroke:#000000;\" x=\"219.775\" xlink:href=\"#m4e9c979e5f\" y=\"199.701503\"/>\r\n     <use style=\"fill-opacity:0;stroke:#000000;\" x=\"219.775\" xlink:href=\"#m4e9c979e5f\" y=\"147.462418\"/>\r\n     <use style=\"fill-opacity:0;stroke:#000000;\" x=\"219.775\" xlink:href=\"#m4e9c979e5f\" y=\"174.081498\"/>\r\n     <use style=\"fill-opacity:0;stroke:#000000;\" x=\"219.775\" xlink:href=\"#m4e9c979e5f\" y=\"175.327281\"/>\r\n     <use style=\"fill-opacity:0;stroke:#000000;\" x=\"219.775\" xlink:href=\"#m4e9c979e5f\" y=\"176.911111\"/>\r\n     <use style=\"fill-opacity:0;stroke:#000000;\" x=\"219.775\" xlink:href=\"#m4e9c979e5f\" y=\"185.790729\"/>\r\n     <use style=\"fill-opacity:0;stroke:#000000;\" x=\"219.775\" xlink:href=\"#m4e9c979e5f\" y=\"186.106177\"/>\r\n     <use style=\"fill-opacity:0;stroke:#000000;\" x=\"219.775\" xlink:href=\"#m4e9c979e5f\" y=\"194.610083\"/>\r\n     <use style=\"fill-opacity:0;stroke:#000000;\" x=\"219.775\" xlink:href=\"#m4e9c979e5f\" y=\"194.734379\"/>\r\n     <use style=\"fill-opacity:0;stroke:#000000;\" x=\"219.775\" xlink:href=\"#m4e9c979e5f\" y=\"197.428396\"/>\r\n     <use style=\"fill-opacity:0;stroke:#000000;\" x=\"219.775\" xlink:href=\"#m4e9c979e5f\" y=\"197.60919\"/>\r\n     <use style=\"fill-opacity:0;stroke:#000000;\" x=\"219.775\" xlink:href=\"#m4e9c979e5f\" y=\"159.36751\"/>\r\n     <use style=\"fill-opacity:0;stroke:#000000;\" x=\"219.775\" xlink:href=\"#m4e9c979e5f\" y=\"176.198294\"/>\r\n     <use style=\"fill-opacity:0;stroke:#000000;\" x=\"219.775\" xlink:href=\"#m4e9c979e5f\" y=\"186.566637\"/>\r\n     <use style=\"fill-opacity:0;stroke:#000000;\" x=\"219.775\" xlink:href=\"#m4e9c979e5f\" y=\"192.585568\"/>\r\n     <use style=\"fill-opacity:0;stroke:#000000;\" x=\"219.775\" xlink:href=\"#m4e9c979e5f\" y=\"192.897249\"/>\r\n     <use style=\"fill-opacity:0;stroke:#000000;\" x=\"219.775\" xlink:href=\"#m4e9c979e5f\" y=\"194.296518\"/>\r\n     <use style=\"fill-opacity:0;stroke:#000000;\" x=\"219.775\" xlink:href=\"#m4e9c979e5f\" y=\"198.367206\"/>\r\n     <use style=\"fill-opacity:0;stroke:#000000;\" x=\"219.775\" xlink:href=\"#m4e9c979e5f\" y=\"198.71467\"/>\r\n     <use style=\"fill-opacity:0;stroke:#000000;\" x=\"219.775\" xlink:href=\"#m4e9c979e5f\" y=\"166.587967\"/>\r\n     <use style=\"fill-opacity:0;stroke:#000000;\" x=\"219.775\" xlink:href=\"#m4e9c979e5f\" y=\"179.134312\"/>\r\n     <use style=\"fill-opacity:0;stroke:#000000;\" x=\"219.775\" xlink:href=\"#m4e9c979e5f\" y=\"191.368975\"/>\r\n     <use style=\"fill-opacity:0;stroke:#000000;\" x=\"219.775\" xlink:href=\"#m4e9c979e5f\" y=\"195.375632\"/>\r\n     <use style=\"fill-opacity:0;stroke:#000000;\" x=\"219.775\" xlink:href=\"#m4e9c979e5f\" y=\"198.071533\"/>\r\n     <use style=\"fill-opacity:0;stroke:#000000;\" x=\"219.775\" xlink:href=\"#m4e9c979e5f\" y=\"199.691145\"/>\r\n     <use style=\"fill-opacity:0;stroke:#000000;\" x=\"219.775\" xlink:href=\"#m4e9c979e5f\" y=\"170.85169\"/>\r\n     <use style=\"fill-opacity:0;stroke:#000000;\" x=\"219.775\" xlink:href=\"#m4e9c979e5f\" y=\"183.552463\"/>\r\n     <use style=\"fill-opacity:0;stroke:#000000;\" x=\"219.775\" xlink:href=\"#m4e9c979e5f\" y=\"185.806737\"/>\r\n     <use style=\"fill-opacity:0;stroke:#000000;\" x=\"219.775\" xlink:href=\"#m4e9c979e5f\" y=\"193.971654\"/>\r\n     <use style=\"fill-opacity:0;stroke:#000000;\" x=\"219.775\" xlink:href=\"#m4e9c979e5f\" y=\"200.306033\"/>\r\n     <use style=\"fill-opacity:0;stroke:#000000;\" x=\"219.775\" xlink:href=\"#m4e9c979e5f\" y=\"173.762284\"/>\r\n     <use style=\"fill-opacity:0;stroke:#000000;\" x=\"219.775\" xlink:href=\"#m4e9c979e5f\" y=\"185.080737\"/>\r\n     <use style=\"fill-opacity:0;stroke:#000000;\" x=\"219.775\" xlink:href=\"#m4e9c979e5f\" y=\"185.592986\"/>\r\n     <use style=\"fill-opacity:0;stroke:#000000;\" x=\"219.775\" xlink:href=\"#m4e9c979e5f\" y=\"193.676923\"/>\r\n     <use style=\"fill-opacity:0;stroke:#000000;\" x=\"219.775\" xlink:href=\"#m4e9c979e5f\" y=\"197.826708\"/>\r\n     <use style=\"fill-opacity:0;stroke:#000000;\" x=\"219.775\" xlink:href=\"#m4e9c979e5f\" y=\"199.491519\"/>\r\n     <use style=\"fill-opacity:0;stroke:#000000;\" x=\"219.775\" xlink:href=\"#m4e9c979e5f\" y=\"177.744458\"/>\r\n     <use style=\"fill-opacity:0;stroke:#000000;\" x=\"219.775\" xlink:href=\"#m4e9c979e5f\" y=\"185.298254\"/>\r\n     <use style=\"fill-opacity:0;stroke:#000000;\" x=\"219.775\" xlink:href=\"#m4e9c979e5f\" y=\"196.804092\"/>\r\n     <use style=\"fill-opacity:0;stroke:#000000;\" x=\"219.775\" xlink:href=\"#m4e9c979e5f\" y=\"198.056467\"/>\r\n     <use style=\"fill-opacity:0;stroke:#000000;\" x=\"219.775\" xlink:href=\"#m4e9c979e5f\" y=\"168.730186\"/>\r\n     <use style=\"fill-opacity:0;stroke:#000000;\" x=\"219.775\" xlink:href=\"#m4e9c979e5f\" y=\"174.726518\"/>\r\n     <use style=\"fill-opacity:0;stroke:#000000;\" x=\"219.775\" xlink:href=\"#m4e9c979e5f\" y=\"180.460134\"/>\r\n     <use style=\"fill-opacity:0;stroke:#000000;\" x=\"219.775\" xlink:href=\"#m4e9c979e5f\" y=\"188.639175\"/>\r\n     <use style=\"fill-opacity:0;stroke:#000000;\" x=\"219.775\" xlink:href=\"#m4e9c979e5f\" y=\"188.977222\"/>\r\n     <use style=\"fill-opacity:0;stroke:#000000;\" x=\"219.775\" xlink:href=\"#m4e9c979e5f\" y=\"192.124166\"/>\r\n     <use style=\"fill-opacity:0;stroke:#000000;\" x=\"219.775\" xlink:href=\"#m4e9c979e5f\" y=\"192.77107\"/>\r\n     <use style=\"fill-opacity:0;stroke:#000000;\" x=\"219.775\" xlink:href=\"#m4e9c979e5f\" y=\"198.319183\"/>\r\n     <use style=\"fill-opacity:0;stroke:#000000;\" x=\"219.775\" xlink:href=\"#m4e9c979e5f\" y=\"199.473628\"/>\r\n     <use style=\"fill-opacity:0;stroke:#000000;\" x=\"219.775\" xlink:href=\"#m4e9c979e5f\" y=\"199.875706\"/>\r\n     <use style=\"fill-opacity:0;stroke:#000000;\" x=\"219.775\" xlink:href=\"#m4e9c979e5f\" y=\"46.846835\"/>\r\n     <use style=\"fill-opacity:0;stroke:#000000;\" x=\"219.775\" xlink:href=\"#m4e9c979e5f\" y=\"120.370638\"/>\r\n     <use style=\"fill-opacity:0;stroke:#000000;\" x=\"219.775\" xlink:href=\"#m4e9c979e5f\" y=\"139.455696\"/>\r\n     <use style=\"fill-opacity:0;stroke:#000000;\" x=\"219.775\" xlink:href=\"#m4e9c979e5f\" y=\"157.257306\"/>\r\n     <use style=\"fill-opacity:0;stroke:#000000;\" x=\"219.775\" xlink:href=\"#m4e9c979e5f\" y=\"173.833848\"/>\r\n     <use style=\"fill-opacity:0;stroke:#000000;\" x=\"219.775\" xlink:href=\"#m4e9c979e5f\" y=\"179.869729\"/>\r\n     <use style=\"fill-opacity:0;stroke:#000000;\" x=\"219.775\" xlink:href=\"#m4e9c979e5f\" y=\"180.771815\"/>\r\n     <use style=\"fill-opacity:0;stroke:#000000;\" x=\"219.775\" xlink:href=\"#m4e9c979e5f\" y=\"184.032697\"/>\r\n     <use style=\"fill-opacity:0;stroke:#000000;\" x=\"219.775\" xlink:href=\"#m4e9c979e5f\" y=\"185.776605\"/>\r\n     <use style=\"fill-opacity:0;stroke:#000000;\" x=\"219.775\" xlink:href=\"#m4e9c979e5f\" y=\"188.4113\"/>\r\n     <use style=\"fill-opacity:0;stroke:#000000;\" x=\"219.775\" xlink:href=\"#m4e9c979e5f\" y=\"191.120384\"/>\r\n     <use style=\"fill-opacity:0;stroke:#000000;\" x=\"219.775\" xlink:href=\"#m4e9c979e5f\" y=\"191.264454\"/>\r\n     <use style=\"fill-opacity:0;stroke:#000000;\" x=\"219.775\" xlink:href=\"#m4e9c979e5f\" y=\"193.331342\"/>\r\n     <use style=\"fill-opacity:0;stroke:#000000;\" x=\"219.775\" xlink:href=\"#m4e9c979e5f\" y=\"196.035718\"/>\r\n     <use style=\"fill-opacity:0;stroke:#000000;\" x=\"219.775\" xlink:href=\"#m4e9c979e5f\" y=\"196.136473\"/>\r\n     <use style=\"fill-opacity:0;stroke:#000000;\" x=\"219.775\" xlink:href=\"#m4e9c979e5f\" y=\"196.19203\"/>\r\n     <use style=\"fill-opacity:0;stroke:#000000;\" x=\"219.775\" xlink:href=\"#m4e9c979e5f\" y=\"199.603573\"/>\r\n     <use style=\"fill-opacity:0;stroke:#000000;\" x=\"219.775\" xlink:href=\"#m4e9c979e5f\" y=\"17.083636\"/>\r\n     <use style=\"fill-opacity:0;stroke:#000000;\" x=\"219.775\" xlink:href=\"#m4e9c979e5f\" y=\"112.813075\"/>\r\n     <use style=\"fill-opacity:0;stroke:#000000;\" x=\"219.775\" xlink:href=\"#m4e9c979e5f\" y=\"147.90122\"/>\r\n     <use style=\"fill-opacity:0;stroke:#000000;\" x=\"219.775\" xlink:href=\"#m4e9c979e5f\" y=\"152.139519\"/>\r\n     <use style=\"fill-opacity:0;stroke:#000000;\" x=\"219.775\" xlink:href=\"#m4e9c979e5f\" y=\"170.327199\"/>\r\n     <use style=\"fill-opacity:0;stroke:#000000;\" x=\"219.775\" xlink:href=\"#m4e9c979e5f\" y=\"171.055083\"/>\r\n     <use style=\"fill-opacity:0;stroke:#000000;\" x=\"219.775\" xlink:href=\"#m4e9c979e5f\" y=\"174.252876\"/>\r\n     <use style=\"fill-opacity:0;stroke:#000000;\" x=\"219.775\" xlink:href=\"#m4e9c979e5f\" y=\"175.395079\"/>\r\n     <use style=\"fill-opacity:0;stroke:#000000;\" x=\"219.775\" xlink:href=\"#m4e9c979e5f\" y=\"178.725642\"/>\r\n     <use style=\"fill-opacity:0;stroke:#000000;\" x=\"219.775\" xlink:href=\"#m4e9c979e5f\" y=\"178.824514\"/>\r\n     <use style=\"fill-opacity:0;stroke:#000000;\" x=\"219.775\" xlink:href=\"#m4e9c979e5f\" y=\"181.528889\"/>\r\n     <use style=\"fill-opacity:0;stroke:#000000;\" x=\"219.775\" xlink:href=\"#m4e9c979e5f\" y=\"183.510089\"/>\r\n     <use style=\"fill-opacity:0;stroke:#000000;\" x=\"219.775\" xlink:href=\"#m4e9c979e5f\" y=\"185.947982\"/>\r\n     <use style=\"fill-opacity:0;stroke:#000000;\" x=\"219.775\" xlink:href=\"#m4e9c979e5f\" y=\"189.406608\"/>\r\n     <use style=\"fill-opacity:0;stroke:#000000;\" x=\"219.775\" xlink:href=\"#m4e9c979e5f\" y=\"189.513954\"/>\r\n     <use style=\"fill-opacity:0;stroke:#000000;\" x=\"219.775\" xlink:href=\"#m4e9c979e5f\" y=\"190.037503\"/>\r\n     <use style=\"fill-opacity:0;stroke:#000000;\" x=\"219.775\" xlink:href=\"#m4e9c979e5f\" y=\"191.638283\"/>\r\n     <use style=\"fill-opacity:0;stroke:#000000;\" x=\"219.775\" xlink:href=\"#m4e9c979e5f\" y=\"193.954705\"/>\r\n     <use style=\"fill-opacity:0;stroke:#000000;\" x=\"219.775\" xlink:href=\"#m4e9c979e5f\" y=\"195.653414\"/>\r\n     <use style=\"fill-opacity:0;stroke:#000000;\" x=\"219.775\" xlink:href=\"#m4e9c979e5f\" y=\"196.404839\"/>\r\n     <use style=\"fill-opacity:0;stroke:#000000;\" x=\"219.775\" xlink:href=\"#m4e9c979e5f\" y=\"196.535726\"/>\r\n     <use style=\"fill-opacity:0;stroke:#000000;\" x=\"219.775\" xlink:href=\"#m4e9c979e5f\" y=\"196.817275\"/>\r\n     <use style=\"fill-opacity:0;stroke:#000000;\" x=\"219.775\" xlink:href=\"#m4e9c979e5f\" y=\"198.066825\"/>\r\n     <use style=\"fill-opacity:0;stroke:#000000;\" x=\"219.775\" xlink:href=\"#m4e9c979e5f\" y=\"199.867231\"/>\r\n     <use style=\"fill-opacity:0;stroke:#000000;\" x=\"219.775\" xlink:href=\"#m4e9c979e5f\" y=\"200.162904\"/>\r\n     <use style=\"fill-opacity:0;stroke:#000000;\" x=\"219.775\" xlink:href=\"#m4e9c979e5f\" y=\"94.338197\"/>\r\n     <use style=\"fill-opacity:0;stroke:#000000;\" x=\"219.775\" xlink:href=\"#m4e9c979e5f\" y=\"97.153685\"/>\r\n     <use style=\"fill-opacity:0;stroke:#000000;\" x=\"219.775\" xlink:href=\"#m4e9c979e5f\" y=\"139.798451\"/>\r\n     <use style=\"fill-opacity:0;stroke:#000000;\" x=\"219.775\" xlink:href=\"#m4e9c979e5f\" y=\"168.059742\"/>\r\n     <use style=\"fill-opacity:0;stroke:#000000;\" x=\"219.775\" xlink:href=\"#m4e9c979e5f\" y=\"174.588098\"/>\r\n     <use style=\"fill-opacity:0;stroke:#000000;\" x=\"219.775\" xlink:href=\"#m4e9c979e5f\" y=\"174.796199\"/>\r\n     <use style=\"fill-opacity:0;stroke:#000000;\" x=\"219.775\" xlink:href=\"#m4e9c979e5f\" y=\"176.120138\"/>\r\n     <use style=\"fill-opacity:0;stroke:#000000;\" x=\"219.775\" xlink:href=\"#m4e9c979e5f\" y=\"177.88382\"/>\r\n     <use style=\"fill-opacity:0;stroke:#000000;\" x=\"219.775\" xlink:href=\"#m4e9c979e5f\" y=\"180.994982\"/>\r\n     <use style=\"fill-opacity:0;stroke:#000000;\" x=\"219.775\" xlink:href=\"#m4e9c979e5f\" y=\"183.878269\"/>\r\n     <use style=\"fill-opacity:0;stroke:#000000;\" x=\"219.775\" xlink:href=\"#m4e9c979e5f\" y=\"184.38016\"/>\r\n     <use style=\"fill-opacity:0;stroke:#000000;\" x=\"219.775\" xlink:href=\"#m4e9c979e5f\" y=\"184.997873\"/>\r\n     <use style=\"fill-opacity:0;stroke:#000000;\" x=\"219.775\" xlink:href=\"#m4e9c979e5f\" y=\"186.469648\"/>\r\n     <use style=\"fill-opacity:0;stroke:#000000;\" x=\"219.775\" xlink:href=\"#m4e9c979e5f\" y=\"187.860443\"/>\r\n     <use style=\"fill-opacity:0;stroke:#000000;\" x=\"219.775\" xlink:href=\"#m4e9c979e5f\" y=\"194.09595\"/>\r\n     <use style=\"fill-opacity:0;stroke:#000000;\" x=\"219.775\" xlink:href=\"#m4e9c979e5f\" y=\"195.422714\"/>\r\n     <use style=\"fill-opacity:0;stroke:#000000;\" x=\"219.775\" xlink:href=\"#m4e9c979e5f\" y=\"196.061142\"/>\r\n     <use style=\"fill-opacity:0;stroke:#000000;\" x=\"219.775\" xlink:href=\"#m4e9c979e5f\" y=\"199.189254\"/>\r\n     <use style=\"fill-opacity:0;stroke:#000000;\" x=\"219.775\" xlink:href=\"#m4e9c979e5f\" y=\"199.20432\"/>\r\n     <use style=\"fill-opacity:0;stroke:#000000;\" x=\"219.775\" xlink:href=\"#m4e9c979e5f\" y=\"199.306017\"/>\r\n     <use style=\"fill-opacity:0;stroke:#000000;\" x=\"219.775\" xlink:href=\"#m4e9c979e5f\" y=\"200.099815\"/>\r\n     <use style=\"fill-opacity:0;stroke:#000000;\" x=\"219.775\" xlink:href=\"#m4e9c979e5f\" y=\"78.904799\"/>\r\n     <use style=\"fill-opacity:0;stroke:#000000;\" x=\"219.775\" xlink:href=\"#m4e9c979e5f\" y=\"143.778742\"/>\r\n     <use style=\"fill-opacity:0;stroke:#000000;\" x=\"219.775\" xlink:href=\"#m4e9c979e5f\" y=\"166.118091\"/>\r\n     <use style=\"fill-opacity:0;stroke:#000000;\" x=\"219.775\" xlink:href=\"#m4e9c979e5f\" y=\"175.707702\"/>\r\n     <use style=\"fill-opacity:0;stroke:#000000;\" x=\"219.775\" xlink:href=\"#m4e9c979e5f\" y=\"177.448785\"/>\r\n     <use style=\"fill-opacity:0;stroke:#000000;\" x=\"219.775\" xlink:href=\"#m4e9c979e5f\" y=\"188.206023\"/>\r\n     <use style=\"fill-opacity:0;stroke:#000000;\" x=\"219.775\" xlink:href=\"#m4e9c979e5f\" y=\"192.037536\"/>\r\n     <use style=\"fill-opacity:0;stroke:#000000;\" x=\"219.775\" xlink:href=\"#m4e9c979e5f\" y=\"193.758845\"/>\r\n     <use style=\"fill-opacity:0;stroke:#000000;\" x=\"219.775\" xlink:href=\"#m4e9c979e5f\" y=\"195.357741\"/>\r\n     <use style=\"fill-opacity:0;stroke:#000000;\" x=\"219.775\" xlink:href=\"#m4e9c979e5f\" y=\"197.661922\"/>\r\n     <use style=\"fill-opacity:0;stroke:#000000;\" x=\"219.775\" xlink:href=\"#m4e9c979e5f\" y=\"197.709004\"/>\r\n     <use style=\"fill-opacity:0;stroke:#000000;\" x=\"219.775\" xlink:href=\"#m4e9c979e5f\" y=\"197.889798\"/>\r\n     <use style=\"fill-opacity:0;stroke:#000000;\" x=\"219.775\" xlink:href=\"#m4e9c979e5f\" y=\"199.83804\"/>\r\n    </g>\r\n   </g>\r\n   <g id=\"line2d_19\">\r\n    <path clip-path=\"url(#pffc5ef37e1)\" d=\"M 194.665 211.801513 \r\nL 244.885 211.801513 \r\n\" style=\"fill:none;stroke:#2ca02c;stroke-linecap:square;\"/>\r\n   </g>\r\n   <g id=\"patch_3\">\r\n    <path d=\"M 52.375 224.64 \r\nL 52.375 7.2 \r\n\" style=\"fill:none;stroke:#000000;stroke-linecap:square;stroke-linejoin:miter;stroke-width:0.8;\"/>\r\n   </g>\r\n   <g id=\"patch_4\">\r\n    <path d=\"M 387.175 224.64 \r\nL 387.175 7.2 \r\n\" style=\"fill:none;stroke:#000000;stroke-linecap:square;stroke-linejoin:miter;stroke-width:0.8;\"/>\r\n   </g>\r\n   <g id=\"patch_5\">\r\n    <path d=\"M 52.375 224.64 \r\nL 387.175 224.64 \r\n\" style=\"fill:none;stroke:#000000;stroke-linecap:square;stroke-linejoin:miter;stroke-width:0.8;\"/>\r\n   </g>\r\n   <g id=\"patch_6\">\r\n    <path d=\"M 52.375 7.2 \r\nL 387.175 7.2 \r\n\" style=\"fill:none;stroke:#000000;stroke-linecap:square;stroke-linejoin:miter;stroke-width:0.8;\"/>\r\n   </g>\r\n  </g>\r\n </g>\r\n <defs>\r\n  <clipPath id=\"pffc5ef37e1\">\r\n   <rect height=\"217.44\" width=\"334.8\" x=\"52.375\" y=\"7.2\"/>\r\n  </clipPath>\r\n </defs>\r\n</svg>\r\n",
      "image/png": "[encoded data removed]"
     },
     "metadata": {
      "needs_background": "light"
     }
    }
   ],
   "source": [
    "top100.boxplot(['viewer_count'])"
   ]
  },
  {
   "cell_type": "code",
   "execution_count": 12,
   "metadata": {},
   "outputs": [
    {
     "output_type": "execute_result",
     "data": {
      "text/plain": [
       "      ranking_position           id    user_id         user_name  type  \\\n",
       "0                    0  39372082478  124420521               LCS  live   \n",
       "1                    1  39363352430   22510310    GamesDoneQuick  live   \n",
       "2                    2    395734242   39276140            Rubius  live   \n",
       "3                    3  39370454542  122375217          negaoryx  live   \n",
       "4                    4  39370827390   37402112            shroud  live   \n",
       "...                ...          ...        ...               ...   ...   \n",
       "1294                95   2499503793   44099416             Rakin  live   \n",
       "1295                96  39383431550  456427110  BeatportOfficial  live   \n",
       "1296                97  39381754334   24765850             餐餐自由配  live   \n",
       "1297                98    402016162   68062590          iGeStarK  live   \n",
       "1298                99  39386531566   52349411         SkyrrozTV  live   \n",
       "\n",
       "      viewer_count language           timestamp  \n",
       "0           112074       en 2020-08-22 00:35:36  \n",
       "1            68353       en 2020-08-22 00:35:36  \n",
       "2            59623       es 2020-08-22 00:35:36  \n",
       "3            46860       en 2020-08-22 00:35:36  \n",
       "4            45084       en 2020-08-22 00:35:36  \n",
       "...            ...      ...                 ...  \n",
       "1294          3822       pt 2020-08-23 00:30:10  \n",
       "1295          3774       en 2020-08-23 00:30:10  \n",
       "1296          3766       zh 2020-08-23 00:30:10  \n",
       "1297          3718       es 2020-08-23 00:30:10  \n",
       "1298          3707       fr 2020-08-23 00:30:10  \n",
       "\n",
       "[1299 rows x 8 columns]"
      ],
      "text/html": "<div>\n<style scoped>\n    .dataframe tbody tr th:only-of-type {\n        vertical-align: middle;\n    }\n\n    .dataframe tbody tr th {\n        vertical-align: top;\n    }\n\n    .dataframe thead th {\n        text-align: right;\n    }\n</style>\n<table border=\"1\" class=\"dataframe\">\n  <thead>\n    <tr style=\"text-align: right;\">\n      <th></th>\n      <th>ranking_position</th>\n      <th>id</th>\n      <th>user_id</th>\n      <th>user_name</th>\n      <th>type</th>\n      <th>viewer_count</th>\n      <th>language</th>\n      <th>timestamp</th>\n    </tr>\n  </thead>\n  <tbody>\n    <tr>\n      <th>0</th>\n      <td>0</td>\n      <td>39372082478</td>\n      <td>124420521</td>\n      <td>LCS</td>\n      <td>live</td>\n      <td>112074</td>\n      <td>en</td>\n      <td>2020-08-22 00:35:36</td>\n    </tr>\n    <tr>\n      <th>1</th>\n      <td>1</td>\n      <td>39363352430</td>\n      <td>22510310</td>\n      <td>GamesDoneQuick</td>\n      <td>live</td>\n      <td>68353</td>\n      <td>en</td>\n      <td>2020-08-22 00:35:36</td>\n    </tr>\n    <tr>\n      <th>2</th>\n      <td>2</td>\n      <td>395734242</td>\n      <td>39276140</td>\n      <td>Rubius</td>\n      <td>live</td>\n      <td>59623</td>\n      <td>es</td>\n      <td>2020-08-22 00:35:36</td>\n    </tr>\n    <tr>\n      <th>3</th>\n      <td>3</td>\n      <td>39370454542</td>\n      <td>122375217</td>\n      <td>negaoryx</td>\n      <td>live</td>\n      <td>46860</td>\n      <td>en</td>\n      <td>2020-08-22 00:35:36</td>\n    </tr>\n    <tr>\n      <th>4</th>\n      <td>4</td>\n      <td>39370827390</td>\n      <td>37402112</td>\n      <td>shroud</td>\n      <td>live</td>\n      <td>45084</td>\n      <td>en</td>\n      <td>2020-08-22 00:35:36</td>\n    </tr>\n    <tr>\n      <th>...</th>\n      <td>...</td>\n      <td>...</td>\n      <td>...</td>\n      <td>...</td>\n      <td>...</td>\n      <td>...</td>\n      <td>...</td>\n      <td>...</td>\n    </tr>\n    <tr>\n      <th>1294</th>\n      <td>95</td>\n      <td>2499503793</td>\n      <td>44099416</td>\n      <td>Rakin</td>\n      <td>live</td>\n      <td>3822</td>\n      <td>pt</td>\n      <td>2020-08-23 00:30:10</td>\n    </tr>\n    <tr>\n      <th>1295</th>\n      <td>96</td>\n      <td>39383431550</td>\n      <td>456427110</td>\n      <td>BeatportOfficial</td>\n      <td>live</td>\n      <td>3774</td>\n      <td>en</td>\n      <td>2020-08-23 00:30:10</td>\n    </tr>\n    <tr>\n      <th>1296</th>\n      <td>97</td>\n      <td>39381754334</td>\n      <td>24765850</td>\n      <td>餐餐自由配</td>\n      <td>live</td>\n      <td>3766</td>\n      <td>zh</td>\n      <td>2020-08-23 00:30:10</td>\n    </tr>\n    <tr>\n      <th>1297</th>\n      <td>98</td>\n      <td>402016162</td>\n      <td>68062590</td>\n      <td>iGeStarK</td>\n      <td>live</td>\n      <td>3718</td>\n      <td>es</td>\n      <td>2020-08-23 00:30:10</td>\n    </tr>\n    <tr>\n      <th>1298</th>\n      <td>99</td>\n      <td>39386531566</td>\n      <td>52349411</td>\n      <td>SkyrrozTV</td>\n      <td>live</td>\n      <td>3707</td>\n      <td>fr</td>\n      <td>2020-08-23 00:30:10</td>\n    </tr>\n  </tbody>\n</table>\n<p>1299 rows × 8 columns</p>\n</div>"
     },
     "metadata": {},
     "execution_count": 12
    }
   ],
   "source": [
    "top100"
   ]
  },
  {
   "source": [
    "## Combination with the remaining data\n",
    "---"
   ],
   "cell_type": "markdown",
   "metadata": {}
  },
  {
   "cell_type": "code",
   "execution_count": 13,
   "metadata": {
    "tags": []
   },
   "outputs": [],
   "source": [
    "### Combine with follower count\n",
    "foldernames = glob.glob(DATA_DIR + \"/data/*/\")\n",
    "\n",
    "# Add empty total col\n",
    "top100['follower_count'] = 0\n",
    "\n",
    "# Combine all top100 CSV into one df with each timestamp\n",
    "for folder in foldernames:  \n",
    "    tmp = pd.read_csv(folder + '/follower.csv')\n",
    "\n",
    "    userID = tmp['user_id'].item()\n",
    "    followerCount = tmp['total'].item()\n",
    "\n",
    "    # Set followercount in top100 for specific user\n",
    "    top100.loc[(top100.user_id == userID), 'follower_count'] = followerCount\n",
    "    "
   ]
  },
  {
   "cell_type": "code",
   "execution_count": null,
   "metadata": {},
   "outputs": [],
   "source": [
    "# TODO ANALYTICS"
   ]
  },
  {
   "cell_type": "code",
   "execution_count": 33,
   "metadata": {},
   "outputs": [],
   "source": [
    "### Combine with clips\n",
    "# Number of Clips, AVG. Viewcount, Highest Viewcount, Lowest Viewcount\n",
    "\n",
    "# Add empty total cols\n",
    "top100['clip_count'] = 0\n",
    "top100['mostviewed_clip'] = 0\n",
    "top100['lowestviewed_clip'] = 0\n",
    "top100['avgviews_clips'] = 0\n",
    "\n",
    "for folder in foldernames:\n",
    "    tmp = pd.read_csv(folder + '/clips.csv')\n",
    "\n",
    "    if len(tmp) != 0:\n",
    "        userID = tmp.iloc[0, 4]\n",
    "        clip_count = len(tmp)\n",
    "        mostviewed_clip = tmp['view_count'].max()\n",
    "        lowestviewed_clip = tmp['view_count'].min()\n",
    "        avgviews_clips = tmp['view_count'].mean()\n",
    "\n",
    "        top100.loc[(top100.user_id == userID), 'clip_count'] = clip_count\n",
    "        top100.loc[(top100.user_id == userID), 'mostviewed_clip'] = mostviewed_clip\n",
    "        top100.loc[(top100.user_id == userID), 'lowestviewed_clip'] = lowestviewed_clip\n",
    "        top100.loc[(top100.user_id == userID), 'avgviews_clips'] = avgviews_clips"
   ]
  },
  {
   "cell_type": "code",
   "execution_count": 34,
   "metadata": {},
   "outputs": [
    {
     "output_type": "execute_result",
     "data": {
      "text/plain": [
       "      ranking_position           id    user_id         user_name  type  \\\n",
       "0                    0  39372082478  124420521               LCS  live   \n",
       "1                    1  39363352430   22510310    GamesDoneQuick  live   \n",
       "2                    2    395734242   39276140            Rubius  live   \n",
       "3                    3  39370454542  122375217          negaoryx  live   \n",
       "4                    4  39370827390   37402112            shroud  live   \n",
       "...                ...          ...        ...               ...   ...   \n",
       "1294                95   2499503793   44099416             Rakin  live   \n",
       "1295                96  39383431550  456427110  BeatportOfficial  live   \n",
       "1296                97  39381754334   24765850             餐餐自由配  live   \n",
       "1297                98    402016162   68062590          iGeStarK  live   \n",
       "1298                99  39386531566   52349411         SkyrrozTV  live   \n",
       "\n",
       "      viewer_count language           timestamp  follower_count  clip_count  \\\n",
       "0           112074       en 2020-08-22 00:35:36         1176855          20   \n",
       "1            68353       en 2020-08-22 00:35:36         1740145          19   \n",
       "2            59623       es 2020-08-22 00:35:36         5781553          20   \n",
       "3            46860       en 2020-08-22 00:35:36           98650          14   \n",
       "4            45084       en 2020-08-22 00:35:36         7798420          20   \n",
       "...            ...      ...                 ...             ...         ...   \n",
       "1294          3822       pt 2020-08-23 00:30:10         1259671          17   \n",
       "1295          3774       en 2020-08-23 00:30:10          128558          20   \n",
       "1296          3766       zh 2020-08-23 00:30:10          374855          20   \n",
       "1297          3718       es 2020-08-23 00:30:10          247985          20   \n",
       "1298          3707       fr 2020-08-23 00:30:10          599956          20   \n",
       "\n",
       "      mostviewed_clip  lowestviewed_clip  avgviews_clips  \n",
       "0              261459             103947   145337.550000  \n",
       "1              399391              80038   157636.368421  \n",
       "2               41469              14861    22328.100000  \n",
       "3             1060023               3726    84269.000000  \n",
       "4             1142911             300452   487644.950000  \n",
       "...               ...                ...             ...  \n",
       "1294            10718               1120     3079.588235  \n",
       "1295            16981                320     2271.600000  \n",
       "1296            20291               5469     7837.000000  \n",
       "1297             2679                266      711.100000  \n",
       "1298            13720               1909     3232.050000  \n",
       "\n",
       "[1299 rows x 13 columns]"
      ],
      "text/html": "<div>\n<style scoped>\n    .dataframe tbody tr th:only-of-type {\n        vertical-align: middle;\n    }\n\n    .dataframe tbody tr th {\n        vertical-align: top;\n    }\n\n    .dataframe thead th {\n        text-align: right;\n    }\n</style>\n<table border=\"1\" class=\"dataframe\">\n  <thead>\n    <tr style=\"text-align: right;\">\n      <th></th>\n      <th>ranking_position</th>\n      <th>id</th>\n      <th>user_id</th>\n      <th>user_name</th>\n      <th>type</th>\n      <th>viewer_count</th>\n      <th>language</th>\n      <th>timestamp</th>\n      <th>follower_count</th>\n      <th>clip_count</th>\n      <th>mostviewed_clip</th>\n      <th>lowestviewed_clip</th>\n      <th>avgviews_clips</th>\n    </tr>\n  </thead>\n  <tbody>\n    <tr>\n      <th>0</th>\n      <td>0</td>\n      <td>39372082478</td>\n      <td>124420521</td>\n      <td>LCS</td>\n      <td>live</td>\n      <td>112074</td>\n      <td>en</td>\n      <td>2020-08-22 00:35:36</td>\n      <td>1176855</td>\n      <td>20</td>\n      <td>261459</td>\n      <td>103947</td>\n      <td>145337.550000</td>\n    </tr>\n    <tr>\n      <th>1</th>\n      <td>1</td>\n      <td>39363352430</td>\n      <td>22510310</td>\n      <td>GamesDoneQuick</td>\n      <td>live</td>\n      <td>68353</td>\n      <td>en</td>\n      <td>2020-08-22 00:35:36</td>\n      <td>1740145</td>\n      <td>19</td>\n      <td>399391</td>\n      <td>80038</td>\n      <td>157636.368421</td>\n    </tr>\n    <tr>\n      <th>2</th>\n      <td>2</td>\n      <td>395734242</td>\n      <td>39276140</td>\n      <td>Rubius</td>\n      <td>live</td>\n      <td>59623</td>\n      <td>es</td>\n      <td>2020-08-22 00:35:36</td>\n      <td>5781553</td>\n      <td>20</td>\n      <td>41469</td>\n      <td>14861</td>\n      <td>22328.100000</td>\n    </tr>\n    <tr>\n      <th>3</th>\n      <td>3</td>\n      <td>39370454542</td>\n      <td>122375217</td>\n      <td>negaoryx</td>\n      <td>live</td>\n      <td>46860</td>\n      <td>en</td>\n      <td>2020-08-22 00:35:36</td>\n      <td>98650</td>\n      <td>14</td>\n      <td>1060023</td>\n      <td>3726</td>\n      <td>84269.000000</td>\n    </tr>\n    <tr>\n      <th>4</th>\n      <td>4</td>\n      <td>39370827390</td>\n      <td>37402112</td>\n      <td>shroud</td>\n      <td>live</td>\n      <td>45084</td>\n      <td>en</td>\n      <td>2020-08-22 00:35:36</td>\n      <td>7798420</td>\n      <td>20</td>\n      <td>1142911</td>\n      <td>300452</td>\n      <td>487644.950000</td>\n    </tr>\n    <tr>\n      <th>...</th>\n      <td>...</td>\n      <td>...</td>\n      <td>...</td>\n      <td>...</td>\n      <td>...</td>\n      <td>...</td>\n      <td>...</td>\n      <td>...</td>\n      <td>...</td>\n      <td>...</td>\n      <td>...</td>\n      <td>...</td>\n      <td>...</td>\n    </tr>\n    <tr>\n      <th>1294</th>\n      <td>95</td>\n      <td>2499503793</td>\n      <td>44099416</td>\n      <td>Rakin</td>\n      <td>live</td>\n      <td>3822</td>\n      <td>pt</td>\n      <td>2020-08-23 00:30:10</td>\n      <td>1259671</td>\n      <td>17</td>\n      <td>10718</td>\n      <td>1120</td>\n      <td>3079.588235</td>\n    </tr>\n    <tr>\n      <th>1295</th>\n      <td>96</td>\n      <td>39383431550</td>\n      <td>456427110</td>\n      <td>BeatportOfficial</td>\n      <td>live</td>\n      <td>3774</td>\n      <td>en</td>\n      <td>2020-08-23 00:30:10</td>\n      <td>128558</td>\n      <td>20</td>\n      <td>16981</td>\n      <td>320</td>\n      <td>2271.600000</td>\n    </tr>\n    <tr>\n      <th>1296</th>\n      <td>97</td>\n      <td>39381754334</td>\n      <td>24765850</td>\n      <td>餐餐自由配</td>\n      <td>live</td>\n      <td>3766</td>\n      <td>zh</td>\n      <td>2020-08-23 00:30:10</td>\n      <td>374855</td>\n      <td>20</td>\n      <td>20291</td>\n      <td>5469</td>\n      <td>7837.000000</td>\n    </tr>\n    <tr>\n      <th>1297</th>\n      <td>98</td>\n      <td>402016162</td>\n      <td>68062590</td>\n      <td>iGeStarK</td>\n      <td>live</td>\n      <td>3718</td>\n      <td>es</td>\n      <td>2020-08-23 00:30:10</td>\n      <td>247985</td>\n      <td>20</td>\n      <td>2679</td>\n      <td>266</td>\n      <td>711.100000</td>\n    </tr>\n    <tr>\n      <th>1298</th>\n      <td>99</td>\n      <td>39386531566</td>\n      <td>52349411</td>\n      <td>SkyrrozTV</td>\n      <td>live</td>\n      <td>3707</td>\n      <td>fr</td>\n      <td>2020-08-23 00:30:10</td>\n      <td>599956</td>\n      <td>20</td>\n      <td>13720</td>\n      <td>1909</td>\n      <td>3232.050000</td>\n    </tr>\n  </tbody>\n</table>\n<p>1299 rows × 13 columns</p>\n</div>"
     },
     "metadata": {},
     "execution_count": 34
    }
   ],
   "source": [
    "# TODO ANALYTICS\n",
    "top100"
   ]
  },
  {
   "cell_type": "code",
   "execution_count": 35,
   "metadata": {},
   "outputs": [],
   "source": [
    "### Combine with videos\n",
    "# Number of Videos, AVG. Viewcount, Highest Viewcount, Lowest Viewcount\n",
    "\n",
    "# Add empty total cols\n",
    "top100['video_count'] = 0\n",
    "top100['mostviewed_video'] = 0\n",
    "top100['lowestviewed_video'] = 0\n",
    "top100['avgviews_video'] = 0\n",
    "\n",
    "for folder in foldernames:\n",
    "    tmp = pd.read_csv(folder + '/videos.csv')\n",
    "    \n",
    "    if len(tmp) != 0:\n",
    "        userID = tmp.iloc[0, 2]\n",
    "        video_count = len(tmp)\n",
    "        mostviewed_video = tmp['view_count'].max()\n",
    "        lowestviewed_video = tmp['view_count'].max()\n",
    "        avgviews_video = tmp['view_count'].max()\n",
    "\n",
    "        top100.loc[(top100.user_id == userID), 'video_count'] = video_count\n",
    "        top100.loc[(top100.user_id == userID), 'mostviewed_video'] = mostviewed_video\n",
    "        top100.loc[(top100.user_id == userID), 'lowestviewed_video'] = lowestviewed_video\n",
    "        top100.loc[(top100.user_id == userID), 'avgviews_video'] = avgviews_video"
   ]
  },
  {
   "cell_type": "code",
   "execution_count": 36,
   "metadata": {},
   "outputs": [
    {
     "output_type": "execute_result",
     "data": {
      "text/plain": [
       "      ranking_position           id    user_id         user_name  type  \\\n",
       "0                    0  39372082478  124420521               LCS  live   \n",
       "1                    1  39363352430   22510310    GamesDoneQuick  live   \n",
       "2                    2    395734242   39276140            Rubius  live   \n",
       "3                    3  39370454542  122375217          negaoryx  live   \n",
       "4                    4  39370827390   37402112            shroud  live   \n",
       "...                ...          ...        ...               ...   ...   \n",
       "1294                95   2499503793   44099416             Rakin  live   \n",
       "1295                96  39383431550  456427110  BeatportOfficial  live   \n",
       "1296                97  39381754334   24765850             餐餐自由配  live   \n",
       "1297                98    402016162   68062590          iGeStarK  live   \n",
       "1298                99  39386531566   52349411         SkyrrozTV  live   \n",
       "\n",
       "      viewer_count language           timestamp  follower_count  clip_count  \\\n",
       "0           112074       en 2020-08-22 00:35:36         1176855          20   \n",
       "1            68353       en 2020-08-22 00:35:36         1740145          19   \n",
       "2            59623       es 2020-08-22 00:35:36         5781553          20   \n",
       "3            46860       en 2020-08-22 00:35:36           98650          14   \n",
       "4            45084       en 2020-08-22 00:35:36         7798420          20   \n",
       "...            ...      ...                 ...             ...         ...   \n",
       "1294          3822       pt 2020-08-23 00:30:10         1259671          17   \n",
       "1295          3774       en 2020-08-23 00:30:10          128558          20   \n",
       "1296          3766       zh 2020-08-23 00:30:10          374855          20   \n",
       "1297          3718       es 2020-08-23 00:30:10          247985          20   \n",
       "1298          3707       fr 2020-08-23 00:30:10          599956          20   \n",
       "\n",
       "      mostviewed_clip  lowestviewed_clip  avgviews_clips  video_count  \\\n",
       "0              261459             103947   145337.550000           20   \n",
       "1              399391              80038   157636.368421           20   \n",
       "2               41469              14861    22328.100000           20   \n",
       "3             1060023               3726    84269.000000           20   \n",
       "4             1142911             300452   487644.950000           20   \n",
       "...               ...                ...             ...          ...   \n",
       "1294            10718               1120     3079.588235           20   \n",
       "1295            16981                320     2271.600000            7   \n",
       "1296            20291               5469     7837.000000           20   \n",
       "1297             2679                266      711.100000           20   \n",
       "1298            13720               1909     3232.050000           20   \n",
       "\n",
       "      mostviewed_video  lowestviewed_video  avgviews_video  \n",
       "0                29002               29002           29002  \n",
       "1                44547               44547           44547  \n",
       "2               850936              850936          850936  \n",
       "3                  425                 425             425  \n",
       "4               395816              395816          395816  \n",
       "...                ...                 ...             ...  \n",
       "1294              4728                4728            4728  \n",
       "1295             16539               16539           16539  \n",
       "1296             14386               14386           14386  \n",
       "1297              9542                9542            9542  \n",
       "1298             11841               11841           11841  \n",
       "\n",
       "[1299 rows x 17 columns]"
      ],
      "text/html": "<div>\n<style scoped>\n    .dataframe tbody tr th:only-of-type {\n        vertical-align: middle;\n    }\n\n    .dataframe tbody tr th {\n        vertical-align: top;\n    }\n\n    .dataframe thead th {\n        text-align: right;\n    }\n</style>\n<table border=\"1\" class=\"dataframe\">\n  <thead>\n    <tr style=\"text-align: right;\">\n      <th></th>\n      <th>ranking_position</th>\n      <th>id</th>\n      <th>user_id</th>\n      <th>user_name</th>\n      <th>type</th>\n      <th>viewer_count</th>\n      <th>language</th>\n      <th>timestamp</th>\n      <th>follower_count</th>\n      <th>clip_count</th>\n      <th>mostviewed_clip</th>\n      <th>lowestviewed_clip</th>\n      <th>avgviews_clips</th>\n      <th>video_count</th>\n      <th>mostviewed_video</th>\n      <th>lowestviewed_video</th>\n      <th>avgviews_video</th>\n    </tr>\n  </thead>\n  <tbody>\n    <tr>\n      <th>0</th>\n      <td>0</td>\n      <td>39372082478</td>\n      <td>124420521</td>\n      <td>LCS</td>\n      <td>live</td>\n      <td>112074</td>\n      <td>en</td>\n      <td>2020-08-22 00:35:36</td>\n      <td>1176855</td>\n      <td>20</td>\n      <td>261459</td>\n      <td>103947</td>\n      <td>145337.550000</td>\n      <td>20</td>\n      <td>29002</td>\n      <td>29002</td>\n      <td>29002</td>\n    </tr>\n    <tr>\n      <th>1</th>\n      <td>1</td>\n      <td>39363352430</td>\n      <td>22510310</td>\n      <td>GamesDoneQuick</td>\n      <td>live</td>\n      <td>68353</td>\n      <td>en</td>\n      <td>2020-08-22 00:35:36</td>\n      <td>1740145</td>\n      <td>19</td>\n      <td>399391</td>\n      <td>80038</td>\n      <td>157636.368421</td>\n      <td>20</td>\n      <td>44547</td>\n      <td>44547</td>\n      <td>44547</td>\n    </tr>\n    <tr>\n      <th>2</th>\n      <td>2</td>\n      <td>395734242</td>\n      <td>39276140</td>\n      <td>Rubius</td>\n      <td>live</td>\n      <td>59623</td>\n      <td>es</td>\n      <td>2020-08-22 00:35:36</td>\n      <td>5781553</td>\n      <td>20</td>\n      <td>41469</td>\n      <td>14861</td>\n      <td>22328.100000</td>\n      <td>20</td>\n      <td>850936</td>\n      <td>850936</td>\n      <td>850936</td>\n    </tr>\n    <tr>\n      <th>3</th>\n      <td>3</td>\n      <td>39370454542</td>\n      <td>122375217</td>\n      <td>negaoryx</td>\n      <td>live</td>\n      <td>46860</td>\n      <td>en</td>\n      <td>2020-08-22 00:35:36</td>\n      <td>98650</td>\n      <td>14</td>\n      <td>1060023</td>\n      <td>3726</td>\n      <td>84269.000000</td>\n      <td>20</td>\n      <td>425</td>\n      <td>425</td>\n      <td>425</td>\n    </tr>\n    <tr>\n      <th>4</th>\n      <td>4</td>\n      <td>39370827390</td>\n      <td>37402112</td>\n      <td>shroud</td>\n      <td>live</td>\n      <td>45084</td>\n      <td>en</td>\n      <td>2020-08-22 00:35:36</td>\n      <td>7798420</td>\n      <td>20</td>\n      <td>1142911</td>\n      <td>300452</td>\n      <td>487644.950000</td>\n      <td>20</td>\n      <td>395816</td>\n      <td>395816</td>\n      <td>395816</td>\n    </tr>\n    <tr>\n      <th>...</th>\n      <td>...</td>\n      <td>...</td>\n      <td>...</td>\n      <td>...</td>\n      <td>...</td>\n      <td>...</td>\n      <td>...</td>\n      <td>...</td>\n      <td>...</td>\n      <td>...</td>\n      <td>...</td>\n      <td>...</td>\n      <td>...</td>\n      <td>...</td>\n      <td>...</td>\n      <td>...</td>\n      <td>...</td>\n    </tr>\n    <tr>\n      <th>1294</th>\n      <td>95</td>\n      <td>2499503793</td>\n      <td>44099416</td>\n      <td>Rakin</td>\n      <td>live</td>\n      <td>3822</td>\n      <td>pt</td>\n      <td>2020-08-23 00:30:10</td>\n      <td>1259671</td>\n      <td>17</td>\n      <td>10718</td>\n      <td>1120</td>\n      <td>3079.588235</td>\n      <td>20</td>\n      <td>4728</td>\n      <td>4728</td>\n      <td>4728</td>\n    </tr>\n    <tr>\n      <th>1295</th>\n      <td>96</td>\n      <td>39383431550</td>\n      <td>456427110</td>\n      <td>BeatportOfficial</td>\n      <td>live</td>\n      <td>3774</td>\n      <td>en</td>\n      <td>2020-08-23 00:30:10</td>\n      <td>128558</td>\n      <td>20</td>\n      <td>16981</td>\n      <td>320</td>\n      <td>2271.600000</td>\n      <td>7</td>\n      <td>16539</td>\n      <td>16539</td>\n      <td>16539</td>\n    </tr>\n    <tr>\n      <th>1296</th>\n      <td>97</td>\n      <td>39381754334</td>\n      <td>24765850</td>\n      <td>餐餐自由配</td>\n      <td>live</td>\n      <td>3766</td>\n      <td>zh</td>\n      <td>2020-08-23 00:30:10</td>\n      <td>374855</td>\n      <td>20</td>\n      <td>20291</td>\n      <td>5469</td>\n      <td>7837.000000</td>\n      <td>20</td>\n      <td>14386</td>\n      <td>14386</td>\n      <td>14386</td>\n    </tr>\n    <tr>\n      <th>1297</th>\n      <td>98</td>\n      <td>402016162</td>\n      <td>68062590</td>\n      <td>iGeStarK</td>\n      <td>live</td>\n      <td>3718</td>\n      <td>es</td>\n      <td>2020-08-23 00:30:10</td>\n      <td>247985</td>\n      <td>20</td>\n      <td>2679</td>\n      <td>266</td>\n      <td>711.100000</td>\n      <td>20</td>\n      <td>9542</td>\n      <td>9542</td>\n      <td>9542</td>\n    </tr>\n    <tr>\n      <th>1298</th>\n      <td>99</td>\n      <td>39386531566</td>\n      <td>52349411</td>\n      <td>SkyrrozTV</td>\n      <td>live</td>\n      <td>3707</td>\n      <td>fr</td>\n      <td>2020-08-23 00:30:10</td>\n      <td>599956</td>\n      <td>20</td>\n      <td>13720</td>\n      <td>1909</td>\n      <td>3232.050000</td>\n      <td>20</td>\n      <td>11841</td>\n      <td>11841</td>\n      <td>11841</td>\n    </tr>\n  </tbody>\n</table>\n<p>1299 rows × 17 columns</p>\n</div>"
     },
     "metadata": {},
     "execution_count": 36
    }
   ],
   "source": [
    "# TODO ANALYTICS\n",
    "top100"
   ]
  },
  {
   "source": [
    "#### Saving dataframe for the usage in the webapp\n",
    "---"
   ],
   "cell_type": "markdown",
   "metadata": {}
  },
  {
   "cell_type": "code",
   "execution_count": 43,
   "metadata": {},
   "outputs": [
    {
     "output_type": "execute_result",
     "data": {
      "text/plain": [
       "               timestamp  ranking_position           id    user_id  \\\n",
       "0    2020-08-22 00:35:36                 0  39372082478  124420521   \n",
       "1    2020-08-22 00:35:36                 1  39363352430   22510310   \n",
       "2    2020-08-22 00:35:36                 2    395734242   39276140   \n",
       "3    2020-08-22 00:35:36                 3  39370454542  122375217   \n",
       "4    2020-08-22 00:35:36                 4  39370827390   37402112   \n",
       "...                  ...               ...          ...        ...   \n",
       "1294 2020-08-23 00:30:10                95   2499503793   44099416   \n",
       "1295 2020-08-23 00:30:10                96  39383431550  456427110   \n",
       "1296 2020-08-23 00:30:10                97  39381754334   24765850   \n",
       "1297 2020-08-23 00:30:10                98    402016162   68062590   \n",
       "1298 2020-08-23 00:30:10                99  39386531566   52349411   \n",
       "\n",
       "             user_name  type  viewer_count language  follower_count  \\\n",
       "0                  LCS  live        112074       en         1176855   \n",
       "1       GamesDoneQuick  live         68353       en         1740145   \n",
       "2               Rubius  live         59623       es         5781553   \n",
       "3             negaoryx  live         46860       en           98650   \n",
       "4               shroud  live         45084       en         7798420   \n",
       "...                ...   ...           ...      ...             ...   \n",
       "1294             Rakin  live          3822       pt         1259671   \n",
       "1295  BeatportOfficial  live          3774       en          128558   \n",
       "1296             餐餐自由配  live          3766       zh          374855   \n",
       "1297          iGeStarK  live          3718       es          247985   \n",
       "1298         SkyrrozTV  live          3707       fr          599956   \n",
       "\n",
       "      clip_count  mostviewed_clip  lowestviewed_clip  avgviews_clips  \\\n",
       "0             20           261459             103947   145337.550000   \n",
       "1             19           399391              80038   157636.368421   \n",
       "2             20            41469              14861    22328.100000   \n",
       "3             14          1060023               3726    84269.000000   \n",
       "4             20          1142911             300452   487644.950000   \n",
       "...          ...              ...                ...             ...   \n",
       "1294          17            10718               1120     3079.588235   \n",
       "1295          20            16981                320     2271.600000   \n",
       "1296          20            20291               5469     7837.000000   \n",
       "1297          20             2679                266      711.100000   \n",
       "1298          20            13720               1909     3232.050000   \n",
       "\n",
       "      video_count  mostviewed_video  lowestviewed_video  avgviews_video  \n",
       "0              20             29002               29002           29002  \n",
       "1              20             44547               44547           44547  \n",
       "2              20            850936              850936          850936  \n",
       "3              20               425                 425             425  \n",
       "4              20            395816              395816          395816  \n",
       "...           ...               ...                 ...             ...  \n",
       "1294           20              4728                4728            4728  \n",
       "1295            7             16539               16539           16539  \n",
       "1296           20             14386               14386           14386  \n",
       "1297           20              9542                9542            9542  \n",
       "1298           20             11841               11841           11841  \n",
       "\n",
       "[1299 rows x 17 columns]"
      ],
      "text/html": "<div>\n<style scoped>\n    .dataframe tbody tr th:only-of-type {\n        vertical-align: middle;\n    }\n\n    .dataframe tbody tr th {\n        vertical-align: top;\n    }\n\n    .dataframe thead th {\n        text-align: right;\n    }\n</style>\n<table border=\"1\" class=\"dataframe\">\n  <thead>\n    <tr style=\"text-align: right;\">\n      <th></th>\n      <th>timestamp</th>\n      <th>ranking_position</th>\n      <th>id</th>\n      <th>user_id</th>\n      <th>user_name</th>\n      <th>type</th>\n      <th>viewer_count</th>\n      <th>language</th>\n      <th>follower_count</th>\n      <th>clip_count</th>\n      <th>mostviewed_clip</th>\n      <th>lowestviewed_clip</th>\n      <th>avgviews_clips</th>\n      <th>video_count</th>\n      <th>mostviewed_video</th>\n      <th>lowestviewed_video</th>\n      <th>avgviews_video</th>\n    </tr>\n  </thead>\n  <tbody>\n    <tr>\n      <th>0</th>\n      <td>2020-08-22 00:35:36</td>\n      <td>0</td>\n      <td>39372082478</td>\n      <td>124420521</td>\n      <td>LCS</td>\n      <td>live</td>\n      <td>112074</td>\n      <td>en</td>\n      <td>1176855</td>\n      <td>20</td>\n      <td>261459</td>\n      <td>103947</td>\n      <td>145337.550000</td>\n      <td>20</td>\n      <td>29002</td>\n      <td>29002</td>\n      <td>29002</td>\n    </tr>\n    <tr>\n      <th>1</th>\n      <td>2020-08-22 00:35:36</td>\n      <td>1</td>\n      <td>39363352430</td>\n      <td>22510310</td>\n      <td>GamesDoneQuick</td>\n      <td>live</td>\n      <td>68353</td>\n      <td>en</td>\n      <td>1740145</td>\n      <td>19</td>\n      <td>399391</td>\n      <td>80038</td>\n      <td>157636.368421</td>\n      <td>20</td>\n      <td>44547</td>\n      <td>44547</td>\n      <td>44547</td>\n    </tr>\n    <tr>\n      <th>2</th>\n      <td>2020-08-22 00:35:36</td>\n      <td>2</td>\n      <td>395734242</td>\n      <td>39276140</td>\n      <td>Rubius</td>\n      <td>live</td>\n      <td>59623</td>\n      <td>es</td>\n      <td>5781553</td>\n      <td>20</td>\n      <td>41469</td>\n      <td>14861</td>\n      <td>22328.100000</td>\n      <td>20</td>\n      <td>850936</td>\n      <td>850936</td>\n      <td>850936</td>\n    </tr>\n    <tr>\n      <th>3</th>\n      <td>2020-08-22 00:35:36</td>\n      <td>3</td>\n      <td>39370454542</td>\n      <td>122375217</td>\n      <td>negaoryx</td>\n      <td>live</td>\n      <td>46860</td>\n      <td>en</td>\n      <td>98650</td>\n      <td>14</td>\n      <td>1060023</td>\n      <td>3726</td>\n      <td>84269.000000</td>\n      <td>20</td>\n      <td>425</td>\n      <td>425</td>\n      <td>425</td>\n    </tr>\n    <tr>\n      <th>4</th>\n      <td>2020-08-22 00:35:36</td>\n      <td>4</td>\n      <td>39370827390</td>\n      <td>37402112</td>\n      <td>shroud</td>\n      <td>live</td>\n      <td>45084</td>\n      <td>en</td>\n      <td>7798420</td>\n      <td>20</td>\n      <td>1142911</td>\n      <td>300452</td>\n      <td>487644.950000</td>\n      <td>20</td>\n      <td>395816</td>\n      <td>395816</td>\n      <td>395816</td>\n    </tr>\n    <tr>\n      <th>...</th>\n      <td>...</td>\n      <td>...</td>\n      <td>...</td>\n      <td>...</td>\n      <td>...</td>\n      <td>...</td>\n      <td>...</td>\n      <td>...</td>\n      <td>...</td>\n      <td>...</td>\n      <td>...</td>\n      <td>...</td>\n      <td>...</td>\n      <td>...</td>\n      <td>...</td>\n      <td>...</td>\n      <td>...</td>\n    </tr>\n    <tr>\n      <th>1294</th>\n      <td>2020-08-23 00:30:10</td>\n      <td>95</td>\n      <td>2499503793</td>\n      <td>44099416</td>\n      <td>Rakin</td>\n      <td>live</td>\n      <td>3822</td>\n      <td>pt</td>\n      <td>1259671</td>\n      <td>17</td>\n      <td>10718</td>\n      <td>1120</td>\n      <td>3079.588235</td>\n      <td>20</td>\n      <td>4728</td>\n      <td>4728</td>\n      <td>4728</td>\n    </tr>\n    <tr>\n      <th>1295</th>\n      <td>2020-08-23 00:30:10</td>\n      <td>96</td>\n      <td>39383431550</td>\n      <td>456427110</td>\n      <td>BeatportOfficial</td>\n      <td>live</td>\n      <td>3774</td>\n      <td>en</td>\n      <td>128558</td>\n      <td>20</td>\n      <td>16981</td>\n      <td>320</td>\n      <td>2271.600000</td>\n      <td>7</td>\n      <td>16539</td>\n      <td>16539</td>\n      <td>16539</td>\n    </tr>\n    <tr>\n      <th>1296</th>\n      <td>2020-08-23 00:30:10</td>\n      <td>97</td>\n      <td>39381754334</td>\n      <td>24765850</td>\n      <td>餐餐自由配</td>\n      <td>live</td>\n      <td>3766</td>\n      <td>zh</td>\n      <td>374855</td>\n      <td>20</td>\n      <td>20291</td>\n      <td>5469</td>\n      <td>7837.000000</td>\n      <td>20</td>\n      <td>14386</td>\n      <td>14386</td>\n      <td>14386</td>\n    </tr>\n    <tr>\n      <th>1297</th>\n      <td>2020-08-23 00:30:10</td>\n      <td>98</td>\n      <td>402016162</td>\n      <td>68062590</td>\n      <td>iGeStarK</td>\n      <td>live</td>\n      <td>3718</td>\n      <td>es</td>\n      <td>247985</td>\n      <td>20</td>\n      <td>2679</td>\n      <td>266</td>\n      <td>711.100000</td>\n      <td>20</td>\n      <td>9542</td>\n      <td>9542</td>\n      <td>9542</td>\n    </tr>\n    <tr>\n      <th>1298</th>\n      <td>2020-08-23 00:30:10</td>\n      <td>99</td>\n      <td>39386531566</td>\n      <td>52349411</td>\n      <td>SkyrrozTV</td>\n      <td>live</td>\n      <td>3707</td>\n      <td>fr</td>\n      <td>599956</td>\n      <td>20</td>\n      <td>13720</td>\n      <td>1909</td>\n      <td>3232.050000</td>\n      <td>20</td>\n      <td>11841</td>\n      <td>11841</td>\n      <td>11841</td>\n    </tr>\n  </tbody>\n</table>\n<p>1299 rows × 17 columns</p>\n</div>"
     },
     "metadata": {},
     "execution_count": 43
    }
   ],
   "source": [
    "# Move timestamp col to the front\n",
    "timestampCol = top100.pop('timestamp')\n",
    "top100.insert(0, 'timestamp', timestampCol)\n",
    "top100"
   ]
  },
  {
   "cell_type": "code",
   "execution_count": 44,
   "metadata": {},
   "outputs": [],
   "source": [
    "top100.to_csv('Top100Combined.csv', index = False)"
   ]
  }
 ]
}